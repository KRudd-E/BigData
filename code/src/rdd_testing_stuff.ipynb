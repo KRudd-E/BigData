{
 "cells": [
  {
   "cell_type": "code",
   "execution_count": 1,
   "id": "9063d00c",
   "metadata": {},
   "outputs": [],
   "source": [
    "import pickle\n",
    "import pandas as pd\n",
    "import numpy as np\n",
    "from pyspark.sql import DataFrame\n",
    "from aeon.classification.distance_based import ProximityTree, ProximityForest\n",
    "import logging\n",
    "\n",
    "from pyspark.sql import SparkSession\n",
    "import os\n",
    "from pyspark.sql import SparkSession\n",
    "from data_ingestion import DataIngestion\n",
    "from preprocessing import Preprocessor\n",
    "from prediction_manager import PredictionManager\n",
    "from local_model_manager import LocalModelManager\n",
    "from evaluation import Evaluator\n",
    "from utilities import show_compact\n",
    "import time\n",
    "import json\n",
    "from random import sample\n",
    "from dtaidistance import dtw"
   ]
  },
  {
   "cell_type": "markdown",
   "id": "6d01e9ea",
   "metadata": {},
   "source": [
    "## ---\n"
   ]
  },
  {
   "cell_type": "code",
   "execution_count": 2,
   "id": "84413ae3",
   "metadata": {},
   "outputs": [],
   "source": [
    "from pyspark.sql import SparkSession\n",
    "\n",
    "spark = SparkSession.builder.master(\"local[*]\").appName(\"GenericRDD\").getOrCreate()\n",
    "\n",
    "# Access the SparkContext\n",
    "sc = spark.sparkContext"
   ]
  },
  {
   "cell_type": "markdown",
   "id": "bc8a0e00",
   "metadata": {},
   "source": [
    "# ---"
   ]
  },
  {
   "cell_type": "code",
   "execution_count": 3,
   "id": "0715b0a6",
   "metadata": {},
   "outputs": [],
   "source": [
    "data = [\n",
    "    {\"label\": 1, \"time_series\": [1.0, 2.1, 3.2, 4.3, 5.4]},\n",
    "    {\"label\": 2, \"time_series\": [2.0, 3.1, 4.2, 5.3, 6.4]},\n",
    "    {\"label\": 3, \"time_series\": [3.0, 4.1, 5.2, 6.3, 7.4]},\n",
    "    {\"label\": 4, \"time_series\": [4.0, 5.1, 6.2, 7.3, 8.4]},\n",
    "    {\"label\": 1, \"time_series\": [1.5, 2.6, 3.7, 4.8, 5.9]},\n",
    "    {\"label\": 2, \"time_series\": [2.5, 3.6, 4.7, 5.8, 6.9]},\n",
    "    {\"label\": 3, \"time_series\": [3.5, 4.6, 5.7, 6.8, 7.9]},\n",
    "    {\"label\": 4, \"time_series\": [4.5, 5.6, 6.7, 7.8, 8.9]}\n",
    "]\n",
    "\n",
    "rdd = sc.parallelize(data)"
   ]
  },
  {
   "cell_type": "code",
   "execution_count": 4,
   "id": "cae169e3",
   "metadata": {},
   "outputs": [
    {
     "data": {
      "text/plain": [
       "2"
      ]
     },
     "execution_count": 4,
     "metadata": {},
     "output_type": "execute_result"
    }
   ],
   "source": [
    "rdd = rdd.repartition(2)\n",
    "rdd.getNumPartitions()"
   ]
  },
  {
   "cell_type": "code",
   "execution_count": 66,
   "id": "414dc4de",
   "metadata": {},
   "outputs": [
    {
     "name": "stdout",
     "output_type": "stream",
     "text": [
      "Partition 0: {'label': 3, 'time_series': [3.0, 4.1, 5.2, 6.3, 7.4]}\n",
      "Partition 0: {'label': 4, 'time_series': [4.0, 5.1, 6.2, 7.3, 8.4]}\n",
      "Partition 0: {'label': 1, 'time_series': [1.5, 2.6, 3.7, 4.8, 5.9]}\n",
      "Partition 0: {'label': 2, 'time_series': [2.5, 3.6, 4.7, 5.8, 6.9]}\n",
      "Partition 0: {'label': 3, 'time_series': [3.5, 4.6, 5.7, 6.8, 7.9]}\n",
      "Partition 1: {'label': 1, 'time_series': [1.0, 2.1, 3.2, 4.3, 5.4]}\n",
      "Partition 1: {'label': 2, 'time_series': [2.0, 3.1, 4.2, 5.3, 6.4]}\n",
      "Partition 1: {'label': 4, 'time_series': [4.5, 5.6, 6.7, 7.8, 8.9]}\n"
     ]
    }
   ],
   "source": [
    "def print_partition_rows(index, iterator):\n",
    "    # Add partition index to each row\n",
    "    return [(index, row) for row in iterator]\n",
    "\n",
    "# Use mapPartitionsWithIndex to include partition index\n",
    "partitioned_rdd = rdd.mapPartitionsWithIndex(print_partition_rows)\n",
    "\n",
    "# Collect and print the rows along with their partition index\n",
    "for partition_index, row in partitioned_rdd.collect():\n",
    "    print(f\"Partition {partition_index}: {row}\")"
   ]
  },
  {
   "cell_type": "markdown",
   "id": "a9bde2d9",
   "metadata": {},
   "source": [
    "# adding exemplar column"
   ]
  },
  {
   "cell_type": "code",
   "execution_count": 5,
   "id": "dc7f8c3e",
   "metadata": {},
   "outputs": [
    {
     "name": "stdout",
     "output_type": "stream",
     "text": [
      "{'label': 3, 'time_series': [3.0, 4.1, 5.2, 6.3, 7.4], 'exemplar': [4.0, 5.1, 6.2, 7.3, 8.4]}\n",
      "{'label': 4, 'time_series': [4.0, 5.1, 6.2, 7.3, 8.4], 'exemplar': [4.0, 5.1, 6.2, 7.3, 8.4]}\n",
      "{'label': 1, 'time_series': [1.5, 2.6, 3.7, 4.8, 5.9], 'exemplar': [4.0, 5.1, 6.2, 7.3, 8.4]}\n",
      "{'label': 2, 'time_series': [2.5, 3.6, 4.7, 5.8, 6.9], 'exemplar': [4.0, 5.1, 6.2, 7.3, 8.4]}\n",
      "{'label': 3, 'time_series': [3.5, 4.6, 5.7, 6.8, 7.9], 'exemplar': [4.0, 5.1, 6.2, 7.3, 8.4]}\n",
      "{'label': 1, 'time_series': [1.0, 2.1, 3.2, 4.3, 5.4], 'exemplar': [1.0, 2.1, 3.2, 4.3, 5.4]}\n",
      "{'label': 2, 'time_series': [2.0, 3.1, 4.2, 5.3, 6.4], 'exemplar': [1.0, 2.1, 3.2, 4.3, 5.4]}\n",
      "{'label': 4, 'time_series': [4.5, 5.6, 6.7, 7.8, 8.9], 'exemplar': [1.0, 2.1, 3.2, 4.3, 5.4]}\n"
     ]
    }
   ],
   "source": [
    "def sample_and_add_column(iterator):\n",
    "    partition_data = list(iterator)\n",
    "    sampled_element = sample(partition_data, 1)[0]['time_series']\n",
    "    return iter([{**row, \"exemplar\": sampled_element} for row in partition_data])\n",
    "\n",
    "rdd_with_sampled_column = rdd.mapPartitions(sample_and_add_column)\n",
    "\n",
    "# Collect and print the updated RDD\n",
    "for row in rdd_with_sampled_column.collect():\n",
    "    print(row)"
   ]
  },
  {
   "cell_type": "markdown",
   "id": "66d7f27e",
   "metadata": {},
   "source": [
    "# calculating DTW distance using time series and exemplar columns"
   ]
  },
  {
   "cell_type": "code",
   "execution_count": 6,
   "id": "1bd9ff98",
   "metadata": {},
   "outputs": [
    {
     "name": "stdout",
     "output_type": "stream",
     "text": [
      "{'label': 3, 'time_series': [3.0, 4.1, 5.2, 6.3, 7.4], 'exemplar': [4.0, 5.1, 6.2, 7.3, 8.4], 'dtw_distance': 1.42828568570857}\n",
      "{'label': 4, 'time_series': [4.0, 5.1, 6.2, 7.3, 8.4], 'exemplar': [4.0, 5.1, 6.2, 7.3, 8.4], 'dtw_distance': 0.0}\n",
      "{'label': 1, 'time_series': [1.5, 2.6, 3.7, 4.8, 5.9], 'exemplar': [4.0, 5.1, 6.2, 7.3, 8.4], 'dtw_distance': 4.085339643163099}\n",
      "{'label': 2, 'time_series': [2.5, 3.6, 4.7, 5.8, 6.9], 'exemplar': [4.0, 5.1, 6.2, 7.3, 8.4], 'dtw_distance': 2.2671568097509267}\n",
      "{'label': 3, 'time_series': [3.5, 4.6, 5.7, 6.8, 7.9], 'exemplar': [4.0, 5.1, 6.2, 7.3, 8.4], 'dtw_distance': 1.118033988749895}\n",
      "{'label': 1, 'time_series': [1.0, 2.1, 3.2, 4.3, 5.4], 'exemplar': [1.0, 2.1, 3.2, 4.3, 5.4], 'dtw_distance': 0.0}\n",
      "{'label': 2, 'time_series': [2.0, 3.1, 4.2, 5.3, 6.4], 'exemplar': [1.0, 2.1, 3.2, 4.3, 5.4], 'dtw_distance': 1.42828568570857}\n",
      "{'label': 4, 'time_series': [4.5, 5.6, 6.7, 7.8, 8.9], 'exemplar': [1.0, 2.1, 3.2, 4.3, 5.4], 'dtw_distance': 6.283311228962003}\n"
     ]
    }
   ],
   "source": [
    "# def calc_dtw_distance(iterator):\n",
    "#     partition_data = list(iterator)\n",
    "#     time_series = partition_data['time_series']\n",
    "#     exemplar = partition_data['exemplar']\n",
    "#     dtw_distance = dtw.distance(time_series, exemplar)\n",
    "#     return iter([{**row, \"dtw_distance\": dtw_distance} for row in partition_data])\n",
    "\n",
    "def calc_dtw_distance(iterator):\n",
    "    partition_data = list(iterator)\n",
    "    updated_rows = []\n",
    "    \n",
    "    for row in partition_data:\n",
    "        time_series = row['time_series']\n",
    "        exemplar = row['exemplar']\n",
    "        \n",
    "        dtw_distance = dtw.distance(time_series, exemplar)\n",
    "        \n",
    "        updated_row = {**row, \"dtw_distance\": dtw_distance}\n",
    "        updated_rows.append(updated_row)\n",
    "    return iter(updated_rows)\n",
    "\n",
    "rdd_with_dtw = rdd_with_sampled_column.mapPartitions(calc_dtw_distance)\n",
    "for row in rdd_with_dtw.collect():\n",
    "    print(row)"
   ]
  },
  {
   "cell_type": "markdown",
   "id": "d59dd988",
   "metadata": {},
   "source": [
    "# WORKS FOR ANY NUM OF PARTITIONS AND EXEMPLARS"
   ]
  },
  {
   "cell_type": "code",
   "execution_count": 7,
   "id": "05bf335a",
   "metadata": {},
   "outputs": [
    {
     "name": "stdout",
     "output_type": "stream",
     "text": [
      "{'label': 3, 'time_series': [3.0, 4.1, 5.2, 6.3, 7.4], 'exemplars': [[4.0, 5.1, 6.2, 7.3, 8.4], [1.5, 2.6, 3.7, 4.8, 5.9]]}\n",
      "{'label': 4, 'time_series': [4.0, 5.1, 6.2, 7.3, 8.4], 'exemplars': [[4.0, 5.1, 6.2, 7.3, 8.4], [1.5, 2.6, 3.7, 4.8, 5.9]]}\n",
      "{'label': 1, 'time_series': [1.5, 2.6, 3.7, 4.8, 5.9], 'exemplars': [[4.0, 5.1, 6.2, 7.3, 8.4], [1.5, 2.6, 3.7, 4.8, 5.9]]}\n",
      "{'label': 2, 'time_series': [2.5, 3.6, 4.7, 5.8, 6.9], 'exemplars': [[4.0, 5.1, 6.2, 7.3, 8.4], [1.5, 2.6, 3.7, 4.8, 5.9]]}\n",
      "{'label': 3, 'time_series': [3.5, 4.6, 5.7, 6.8, 7.9], 'exemplars': [[4.0, 5.1, 6.2, 7.3, 8.4], [1.5, 2.6, 3.7, 4.8, 5.9]]}\n",
      "{'label': 1, 'time_series': [1.0, 2.1, 3.2, 4.3, 5.4], 'exemplars': [[1.0, 2.1, 3.2, 4.3, 5.4], [2.0, 3.1, 4.2, 5.3, 6.4]]}\n",
      "{'label': 2, 'time_series': [2.0, 3.1, 4.2, 5.3, 6.4], 'exemplars': [[1.0, 2.1, 3.2, 4.3, 5.4], [2.0, 3.1, 4.2, 5.3, 6.4]]}\n",
      "{'label': 4, 'time_series': [4.5, 5.6, 6.7, 7.8, 8.9], 'exemplars': [[1.0, 2.1, 3.2, 4.3, 5.4], [2.0, 3.1, 4.2, 5.3, 6.4]]}\n",
      "\n",
      "rdd num partitions: 2\n"
     ]
    }
   ],
   "source": [
    "def create_sample_and_add_column_function(num_exemplars):\n",
    "    def sample_and_add_column(iterator):\n",
    "        partition_data = list(iterator)\n",
    "        exemplars = []\n",
    "        for row in sample(partition_data, min(num_exemplars, len(partition_data))):\n",
    "            exemplars.append(row['time_series'])\n",
    "        return iter([{**row, \"exemplars\": exemplars} for row in partition_data])\n",
    "    return sample_and_add_column\n",
    "\n",
    "# Example usage\n",
    "num_exemplars = 2\n",
    "sample_and_add_column = create_sample_and_add_column_function(num_exemplars)\n",
    "rdd_with_exemplar_column = rdd.mapPartitions(sample_and_add_column)\n",
    "for row in rdd_with_exemplar_column.collect():\n",
    "    print(row)\n",
    "\n",
    "print(f'\\nrdd num partitions: {rdd_with_exemplar_column.getNumPartitions()}')"
   ]
  },
  {
   "cell_type": "code",
   "execution_count": 8,
   "id": "b7bed113",
   "metadata": {},
   "outputs": [
    {
     "name": "stdout",
     "output_type": "stream",
     "text": [
      "{'label': 3, 'time_series': [3.0, 4.1, 5.2, 6.3, 7.4], 'exemplars': [[4.0, 5.1, 6.2, 7.3, 8.4], [1.5, 2.6, 3.7, 4.8, 5.9]], 'dtw_distance_exemplar_1': 1.42828568570857, 'dtw_distance_exemplar_2': 2.2671568097509267}\n",
      "{'label': 4, 'time_series': [4.0, 5.1, 6.2, 7.3, 8.4], 'exemplars': [[4.0, 5.1, 6.2, 7.3, 8.4], [1.5, 2.6, 3.7, 4.8, 5.9]], 'dtw_distance_exemplar_1': 0.0, 'dtw_distance_exemplar_2': 4.085339643163099}\n",
      "{'label': 1, 'time_series': [1.5, 2.6, 3.7, 4.8, 5.9], 'exemplars': [[4.0, 5.1, 6.2, 7.3, 8.4], [1.5, 2.6, 3.7, 4.8, 5.9]], 'dtw_distance_exemplar_1': 4.085339643163099, 'dtw_distance_exemplar_2': 0.0}\n",
      "{'label': 2, 'time_series': [2.5, 3.6, 4.7, 5.8, 6.9], 'exemplars': [[4.0, 5.1, 6.2, 7.3, 8.4], [1.5, 2.6, 3.7, 4.8, 5.9]], 'dtw_distance_exemplar_1': 2.2671568097509267, 'dtw_distance_exemplar_2': 1.42828568570857}\n",
      "{'label': 3, 'time_series': [3.5, 4.6, 5.7, 6.8, 7.9], 'exemplars': [[4.0, 5.1, 6.2, 7.3, 8.4], [1.5, 2.6, 3.7, 4.8, 5.9]], 'dtw_distance_exemplar_1': 1.118033988749895, 'dtw_distance_exemplar_2': 3.1208973068654466}\n",
      "{'label': 1, 'time_series': [1.0, 2.1, 3.2, 4.3, 5.4], 'exemplars': [[1.0, 2.1, 3.2, 4.3, 5.4], [2.0, 3.1, 4.2, 5.3, 6.4]], 'dtw_distance_exemplar_1': 0.0, 'dtw_distance_exemplar_2': 1.42828568570857}\n",
      "{'label': 2, 'time_series': [2.0, 3.1, 4.2, 5.3, 6.4], 'exemplars': [[1.0, 2.1, 3.2, 4.3, 5.4], [2.0, 3.1, 4.2, 5.3, 6.4]], 'dtw_distance_exemplar_1': 1.42828568570857, 'dtw_distance_exemplar_2': 0.0}\n",
      "{'label': 4, 'time_series': [4.5, 5.6, 6.7, 7.8, 8.9], 'exemplars': [[1.0, 2.1, 3.2, 4.3, 5.4], [2.0, 3.1, 4.2, 5.3, 6.4]], 'dtw_distance_exemplar_1': 6.283311228962003, 'dtw_distance_exemplar_2': 4.085339643163099}\n",
      "\n",
      "rdd num partitions: 2\n"
     ]
    }
   ],
   "source": [
    "def calc_dtw_distance(iterator):\n",
    "    partition_data = list(iterator)\n",
    "    updated_rows = []\n",
    "    \n",
    "    for row in partition_data:\n",
    "        time_series = row['time_series']\n",
    "        exemplars = row['exemplars']\n",
    "        \n",
    "        # Calculate DTW distances for each exemplar\n",
    "        dtw_distances = [dtw.distance(time_series, exemplar) for exemplar in exemplars]\n",
    "        \n",
    "        # Add each DTW distance as a separate column\n",
    "        updated_row = {**row}\n",
    "        for i, dtw_distance in enumerate(dtw_distances):\n",
    "            updated_row[f\"dtw_distance_exemplar_{i+1}\"] = dtw_distance\n",
    "        \n",
    "        updated_rows.append(updated_row)\n",
    "    \n",
    "    return iter(updated_rows)\n",
    "\n",
    "# Example usage\n",
    "rdd_with_dtw = rdd_with_exemplar_column.mapPartitions(calc_dtw_distance)\n",
    "for row in rdd_with_dtw.collect():\n",
    "    print(row)\n",
    "\n",
    "print(f'\\nrdd num partitions: {rdd_with_dtw.getNumPartitions()}')"
   ]
  },
  {
   "cell_type": "code",
   "execution_count": null,
   "id": "667bd906",
   "metadata": {},
   "outputs": [
    {
     "name": "stdout",
     "output_type": "stream",
     "text": [
      "{'label': 3, 'time_series': [3.0, 4.1, 5.2, 6.3, 7.4], 'exemplars': [[4.0, 5.1, 6.2, 7.3, 8.4], [1.5, 2.6, 3.7, 4.8, 5.9]], 'dtw_distance_exemplar_1': 1.42828568570857, 'dtw_distance_exemplar_2': 2.2671568097509267, 'closest exemplar': 'dtw_distance_exemplar_1'}\n",
      "{'label': 4, 'time_series': [4.0, 5.1, 6.2, 7.3, 8.4], 'exemplars': [[4.0, 5.1, 6.2, 7.3, 8.4], [1.5, 2.6, 3.7, 4.8, 5.9]], 'dtw_distance_exemplar_1': 0.0, 'dtw_distance_exemplar_2': 4.085339643163099, 'closest exemplar': 'dtw_distance_exemplar_1'}\n",
      "{'label': 1, 'time_series': [1.5, 2.6, 3.7, 4.8, 5.9], 'exemplars': [[4.0, 5.1, 6.2, 7.3, 8.4], [1.5, 2.6, 3.7, 4.8, 5.9]], 'dtw_distance_exemplar_1': 4.085339643163099, 'dtw_distance_exemplar_2': 0.0, 'closest exemplar': 'dtw_distance_exemplar_2'}\n",
      "{'label': 2, 'time_series': [2.5, 3.6, 4.7, 5.8, 6.9], 'exemplars': [[4.0, 5.1, 6.2, 7.3, 8.4], [1.5, 2.6, 3.7, 4.8, 5.9]], 'dtw_distance_exemplar_1': 2.2671568097509267, 'dtw_distance_exemplar_2': 1.42828568570857, 'closest exemplar': 'dtw_distance_exemplar_2'}\n",
      "{'label': 3, 'time_series': [3.5, 4.6, 5.7, 6.8, 7.9], 'exemplars': [[4.0, 5.1, 6.2, 7.3, 8.4], [1.5, 2.6, 3.7, 4.8, 5.9]], 'dtw_distance_exemplar_1': 1.118033988749895, 'dtw_distance_exemplar_2': 3.1208973068654466, 'closest exemplar': 'dtw_distance_exemplar_1'}\n",
      "{'label': 1, 'time_series': [1.0, 2.1, 3.2, 4.3, 5.4], 'exemplars': [[1.0, 2.1, 3.2, 4.3, 5.4], [2.0, 3.1, 4.2, 5.3, 6.4]], 'dtw_distance_exemplar_1': 0.0, 'dtw_distance_exemplar_2': 1.42828568570857, 'closest exemplar': 'dtw_distance_exemplar_1'}\n",
      "{'label': 2, 'time_series': [2.0, 3.1, 4.2, 5.3, 6.4], 'exemplars': [[1.0, 2.1, 3.2, 4.3, 5.4], [2.0, 3.1, 4.2, 5.3, 6.4]], 'dtw_distance_exemplar_1': 1.42828568570857, 'dtw_distance_exemplar_2': 0.0, 'closest exemplar': 'dtw_distance_exemplar_2'}\n",
      "{'label': 4, 'time_series': [4.5, 5.6, 6.7, 7.8, 8.9], 'exemplars': [[1.0, 2.1, 3.2, 4.3, 5.4], [2.0, 3.1, 4.2, 5.3, 6.4]], 'dtw_distance_exemplar_1': 6.283311228962003, 'dtw_distance_exemplar_2': 4.085339643163099, 'closest exemplar': 'dtw_distance_exemplar_2'}\n"
     ]
    }
   ],
   "source": [
    "# not sure if this is needed\n",
    "\n",
    "def assign_closest_exemplar(iterator):\n",
    "    partition_data = list(iterator)\n",
    "\n",
    "    for row in partition_data:\n",
    "        # Check if there are DTW distances for exemplars\n",
    "        exemplar_distances = {key: value for key, value in row.items() if key.startswith(\"dtw_distance_exemplar_\")}\n",
    "        \n",
    "        if exemplar_distances:\n",
    "            # Find the exemplar with the smallest DTW distance\n",
    "            closest_exemplar = min(exemplar_distances, key=exemplar_distances.get)\n",
    "            \n",
    "            # Assign the closest exemplar to the row\n",
    "            row[\"closest exemplar\"] = closest_exemplar\n",
    "\n",
    "    return iter(partition_data)\n",
    "\n",
    "# Example usage\n",
    "rdd_with_classification = rdd_with_dtw.mapPartitions(assign_closest_exemplar)\n",
    "for row in rdd_with_classification.collect():\n",
    "    print(row)"
   ]
  },
  {
   "cell_type": "code",
   "execution_count": 70,
   "id": "a1539859",
   "metadata": {},
   "outputs": [],
   "source": [
    "def calculate_partition_gini(iterator):\n",
    "    labels = [row['label'] for row in iterator]\n",
    "\n",
    "    label_counts_dict = {}\n",
    "    for label in labels:\n",
    "        if label in label_counts_dict:\n",
    "            label_counts_dict[label] += 1\n",
    "        else:\n",
    "            label_counts_dict[label] = 1\n",
    "    \n",
    "    total = sum(label_counts_dict.values())\n",
    "    proportion_sqrd_values = [(count / total) ** 2 for count in label_counts_dict.values()]\n",
    "    gini_impurity = 1 - sum(proportion_sqrd_values)\n",
    "    \n",
    "    return iter([gini_impurity])"
   ]
  },
  {
   "cell_type": "code",
   "execution_count": null,
   "id": "34b0d24e",
   "metadata": {},
   "outputs": [
    {
     "name": "stdout",
     "output_type": "stream",
     "text": [
      "gini impurity of partition 1: 0.72\n",
      "gini impurity of partition 2: 0.6666666666666667\n"
     ]
    }
   ],
   "source": [
    "# Example usage\n",
    "gini_rdd = rdd_with_classification.mapPartitions(calculate_partition_gini)\n",
    "\n",
    "# Collect and print the Gini impurity for each partition\n",
    "i=0\n",
    "for gini in gini_rdd.collect():\n",
    "    print(f'gini impurity of partition {i+1}: {gini}')\n",
    "    i+=1"
   ]
  },
  {
   "cell_type": "code",
   "execution_count": 68,
   "id": "4acea2e3",
   "metadata": {},
   "outputs": [
    {
     "name": "stdout",
     "output_type": "stream",
     "text": [
      "\n",
      "rdd num partitions: 2\n"
     ]
    }
   ],
   "source": [
    "print(f'\\nrdd num partitions: {gini_rdd.getNumPartitions()}')"
   ]
  },
  {
   "cell_type": "code",
   "execution_count": null,
   "id": "3aadfc51",
   "metadata": {},
   "outputs": [],
   "source": [
    "def calc_bestsplit_per_partition():\n",
    "    "
   ]
  }
 ],
 "metadata": {
  "kernelspec": {
   "display_name": "bigdata_env",
   "language": "python",
   "name": "python3"
  },
  "language_info": {
   "codemirror_mode": {
    "name": "ipython",
    "version": 3
   },
   "file_extension": ".py",
   "mimetype": "text/x-python",
   "name": "python",
   "nbconvert_exporter": "python",
   "pygments_lexer": "ipython3",
   "version": "3.11.11"
  }
 },
 "nbformat": 4,
 "nbformat_minor": 5
}
