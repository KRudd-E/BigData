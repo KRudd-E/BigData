{
 "cells": [
  {
   "cell_type": "code",
   "execution_count": 67,
   "id": "9063d00c",
   "metadata": {},
   "outputs": [],
   "source": [
    "import pickle\n",
    "import pandas as pd\n",
    "import numpy as np\n",
    "from pyspark.sql import DataFrame\n",
    "from aeon.classification.distance_based import ProximityTree, ProximityForest\n",
    "import logging\n",
    "\n",
    "from pyspark.sql import SparkSession\n",
    "import os\n",
    "from pyspark.sql import SparkSession\n",
    "from data_ingestion import DataIngestion\n",
    "from preprocessing import Preprocessor\n",
    "from prediction_manager import PredictionManager\n",
    "from local_model_manager import LocalModelManager\n",
    "from evaluation import Evaluator\n",
    "from utilities import show_compact\n",
    "import time\n",
    "import json\n",
    "from random import sample\n",
    "from dtaidistance import dtw"
   ]
  },
  {
   "cell_type": "markdown",
   "id": "6d01e9ea",
   "metadata": {},
   "source": [
    "## ---\n"
   ]
  },
  {
   "cell_type": "code",
   "execution_count": 68,
   "id": "84413ae3",
   "metadata": {},
   "outputs": [],
   "source": [
    "from pyspark.sql import SparkSession\n",
    "\n",
    "spark = SparkSession.builder.master(\"local[*]\").appName(\"GenericRDD\").getOrCreate()\n",
    "\n",
    "# Access the SparkContext\n",
    "sc = spark.sparkContext"
   ]
  },
  {
   "cell_type": "markdown",
   "id": "bc8a0e00",
   "metadata": {},
   "source": [
    "# ---"
   ]
  },
  {
   "cell_type": "code",
   "execution_count": 69,
   "id": "0715b0a6",
   "metadata": {},
   "outputs": [],
   "source": [
    "data = [\n",
    "    {\"label\": 1, \"time_series\": [1.0, 2.1, 3.2, 4.3, 5.4]},\n",
    "    {\"label\": 2, \"time_series\": [2.0, 3.1, 4.2, 5.3, 6.4]},\n",
    "    {\"label\": 3, \"time_series\": [3.0, 4.1, 5.2, 6.3, 7.4]},\n",
    "    {\"label\": 4, \"time_series\": [4.0, 5.1, 6.2, 7.3, 8.4]},\n",
    "    {\"label\": 1, \"time_series\": [1.5, 2.6, 3.7, 4.8, 5.9]},\n",
    "    {\"label\": 2, \"time_series\": [2.5, 3.6, 4.7, 5.8, 6.9]},\n",
    "    {\"label\": 3, \"time_series\": [3.5, 4.6, 5.7, 6.8, 7.9]},\n",
    "    {\"label\": 4, \"time_series\": [4.5, 5.6, 6.7, 7.8, 8.9]}\n",
    "]\n",
    "\n",
    "rdd = sc.parallelize(data)"
   ]
  },
  {
   "cell_type": "code",
   "execution_count": 70,
   "id": "cae169e3",
   "metadata": {},
   "outputs": [
    {
     "data": {
      "text/plain": [
       "2"
      ]
     },
     "execution_count": 70,
     "metadata": {},
     "output_type": "execute_result"
    }
   ],
   "source": [
    "rdd = rdd.repartition(2)\n",
    "rdd.getNumPartitions()"
   ]
  },
  {
   "cell_type": "code",
   "execution_count": 71,
   "id": "414dc4de",
   "metadata": {},
   "outputs": [
    {
     "name": "stdout",
     "output_type": "stream",
     "text": [
      "Partition 0: {'label': 3, 'time_series': [3.0, 4.1, 5.2, 6.3, 7.4]}\n",
      "Partition 0: {'label': 4, 'time_series': [4.0, 5.1, 6.2, 7.3, 8.4]}\n",
      "Partition 0: {'label': 1, 'time_series': [1.5, 2.6, 3.7, 4.8, 5.9]}\n",
      "Partition 0: {'label': 2, 'time_series': [2.5, 3.6, 4.7, 5.8, 6.9]}\n",
      "Partition 0: {'label': 3, 'time_series': [3.5, 4.6, 5.7, 6.8, 7.9]}\n",
      "Partition 1: {'label': 1, 'time_series': [1.0, 2.1, 3.2, 4.3, 5.4]}\n",
      "Partition 1: {'label': 2, 'time_series': [2.0, 3.1, 4.2, 5.3, 6.4]}\n",
      "Partition 1: {'label': 4, 'time_series': [4.5, 5.6, 6.7, 7.8, 8.9]}\n"
     ]
    }
   ],
   "source": [
    "def print_partition_rows(index, iterator):\n",
    "    # Add partition index to each row\n",
    "    return [(index, row) for row in iterator]\n",
    "\n",
    "# Use mapPartitionsWithIndex to include partition index\n",
    "partitioned_rdd = rdd.mapPartitionsWithIndex(print_partition_rows)\n",
    "\n",
    "# Collect and print the rows along with their partition index\n",
    "for partition_index, row in partitioned_rdd.collect():\n",
    "    print(f\"Partition {partition_index}: {row}\")"
   ]
  },
  {
   "cell_type": "markdown",
   "id": "a9bde2d9",
   "metadata": {},
   "source": [
    "# adding exemplar column"
   ]
  },
  {
   "cell_type": "code",
   "execution_count": 72,
   "id": "dc7f8c3e",
   "metadata": {},
   "outputs": [
    {
     "name": "stdout",
     "output_type": "stream",
     "text": [
      "{'label': 3, 'time_series': [3.0, 4.1, 5.2, 6.3, 7.4], 'exemplar': [2.5, 3.6, 4.7, 5.8, 6.9]}\n",
      "{'label': 4, 'time_series': [4.0, 5.1, 6.2, 7.3, 8.4], 'exemplar': [2.5, 3.6, 4.7, 5.8, 6.9]}\n",
      "{'label': 1, 'time_series': [1.5, 2.6, 3.7, 4.8, 5.9], 'exemplar': [2.5, 3.6, 4.7, 5.8, 6.9]}\n",
      "{'label': 2, 'time_series': [2.5, 3.6, 4.7, 5.8, 6.9], 'exemplar': [2.5, 3.6, 4.7, 5.8, 6.9]}\n",
      "{'label': 3, 'time_series': [3.5, 4.6, 5.7, 6.8, 7.9], 'exemplar': [2.5, 3.6, 4.7, 5.8, 6.9]}\n",
      "{'label': 1, 'time_series': [1.0, 2.1, 3.2, 4.3, 5.4], 'exemplar': [2.0, 3.1, 4.2, 5.3, 6.4]}\n",
      "{'label': 2, 'time_series': [2.0, 3.1, 4.2, 5.3, 6.4], 'exemplar': [2.0, 3.1, 4.2, 5.3, 6.4]}\n",
      "{'label': 4, 'time_series': [4.5, 5.6, 6.7, 7.8, 8.9], 'exemplar': [2.0, 3.1, 4.2, 5.3, 6.4]}\n"
     ]
    }
   ],
   "source": [
    "def sample_and_add_column(iterator):\n",
    "    partition_data = list(iterator)\n",
    "    sampled_element = sample(partition_data, 1)[0]['time_series']\n",
    "    return iter([{**row, \"exemplar\": sampled_element} for row in partition_data])\n",
    "\n",
    "rdd_with_sampled_column = rdd.mapPartitions(sample_and_add_column)\n",
    "\n",
    "# Collect and print the updated RDD\n",
    "for row in rdd_with_sampled_column.collect():\n",
    "    print(row)"
   ]
  },
  {
   "cell_type": "markdown",
   "id": "66d7f27e",
   "metadata": {},
   "source": [
    "# calculating DTW distance using time series and exemplar columns"
   ]
  },
  {
   "cell_type": "code",
   "execution_count": 73,
   "id": "1bd9ff98",
   "metadata": {},
   "outputs": [
    {
     "name": "stdout",
     "output_type": "stream",
     "text": [
      "{'label': 3, 'time_series': [3.0, 4.1, 5.2, 6.3, 7.4], 'exemplar': [2.5, 3.6, 4.7, 5.8, 6.9], 'dtw_distance': 1.1180339887498947}\n",
      "{'label': 4, 'time_series': [4.0, 5.1, 6.2, 7.3, 8.4], 'exemplar': [2.5, 3.6, 4.7, 5.8, 6.9], 'dtw_distance': 2.2671568097509267}\n",
      "{'label': 1, 'time_series': [1.5, 2.6, 3.7, 4.8, 5.9], 'exemplar': [2.5, 3.6, 4.7, 5.8, 6.9], 'dtw_distance': 1.42828568570857}\n",
      "{'label': 2, 'time_series': [2.5, 3.6, 4.7, 5.8, 6.9], 'exemplar': [2.5, 3.6, 4.7, 5.8, 6.9], 'dtw_distance': 0.0}\n",
      "{'label': 3, 'time_series': [3.5, 4.6, 5.7, 6.8, 7.9], 'exemplar': [2.5, 3.6, 4.7, 5.8, 6.9], 'dtw_distance': 1.42828568570857}\n",
      "{'label': 1, 'time_series': [1.0, 2.1, 3.2, 4.3, 5.4], 'exemplar': [2.0, 3.1, 4.2, 5.3, 6.4], 'dtw_distance': 1.42828568570857}\n",
      "{'label': 2, 'time_series': [2.0, 3.1, 4.2, 5.3, 6.4], 'exemplar': [2.0, 3.1, 4.2, 5.3, 6.4], 'dtw_distance': 0.0}\n",
      "{'label': 4, 'time_series': [4.5, 5.6, 6.7, 7.8, 8.9], 'exemplar': [2.0, 3.1, 4.2, 5.3, 6.4], 'dtw_distance': 4.085339643163099}\n"
     ]
    }
   ],
   "source": [
    "# def calc_dtw_distance(iterator):\n",
    "#     partition_data = list(iterator)\n",
    "#     time_series = partition_data['time_series']\n",
    "#     exemplar = partition_data['exemplar']\n",
    "#     dtw_distance = dtw.distance(time_series, exemplar)\n",
    "#     return iter([{**row, \"dtw_distance\": dtw_distance} for row in partition_data])\n",
    "\n",
    "def calc_dtw_distance(iterator):\n",
    "    partition_data = list(iterator)\n",
    "    updated_rows = []\n",
    "    \n",
    "    for row in partition_data:\n",
    "        time_series = row['time_series']\n",
    "        exemplar = row['exemplar']\n",
    "        \n",
    "        dtw_distance = dtw.distance(time_series, exemplar)\n",
    "        \n",
    "        updated_row = {**row, \"dtw_distance\": dtw_distance}\n",
    "        updated_rows.append(updated_row)\n",
    "    return iter(updated_rows)\n",
    "\n",
    "rdd_with_dtw = rdd_with_sampled_column.mapPartitions(calc_dtw_distance)\n",
    "for row in rdd_with_dtw.collect():\n",
    "    print(row)"
   ]
  },
  {
   "cell_type": "markdown",
   "id": "6964959a",
   "metadata": {},
   "source": [
    "---"
   ]
  },
  {
   "cell_type": "markdown",
   "id": "d59dd988",
   "metadata": {},
   "source": [
    "# WORKS FOR ANY NUM OF PARTITIONS AND EXEMPLARS"
   ]
  },
  {
   "cell_type": "code",
   "execution_count": 74,
   "id": "05bf335a",
   "metadata": {},
   "outputs": [
    {
     "name": "stdout",
     "output_type": "stream",
     "text": [
      "{'label': 3, 'time_series': [3.0, 4.1, 5.2, 6.3, 7.4], 'exemplars': [[2.5, 3.6, 4.7, 5.8, 6.9], [4.0, 5.1, 6.2, 7.3, 8.4]]}\n",
      "{'label': 4, 'time_series': [4.0, 5.1, 6.2, 7.3, 8.4], 'exemplars': [[2.5, 3.6, 4.7, 5.8, 6.9], [4.0, 5.1, 6.2, 7.3, 8.4]]}\n",
      "{'label': 1, 'time_series': [1.5, 2.6, 3.7, 4.8, 5.9], 'exemplars': [[2.5, 3.6, 4.7, 5.8, 6.9], [4.0, 5.1, 6.2, 7.3, 8.4]]}\n",
      "{'label': 2, 'time_series': [2.5, 3.6, 4.7, 5.8, 6.9], 'exemplars': [[2.5, 3.6, 4.7, 5.8, 6.9], [4.0, 5.1, 6.2, 7.3, 8.4]]}\n",
      "{'label': 3, 'time_series': [3.5, 4.6, 5.7, 6.8, 7.9], 'exemplars': [[2.5, 3.6, 4.7, 5.8, 6.9], [4.0, 5.1, 6.2, 7.3, 8.4]]}\n",
      "{'label': 1, 'time_series': [1.0, 2.1, 3.2, 4.3, 5.4], 'exemplars': [[2.0, 3.1, 4.2, 5.3, 6.4], [1.0, 2.1, 3.2, 4.3, 5.4]]}\n",
      "{'label': 2, 'time_series': [2.0, 3.1, 4.2, 5.3, 6.4], 'exemplars': [[2.0, 3.1, 4.2, 5.3, 6.4], [1.0, 2.1, 3.2, 4.3, 5.4]]}\n",
      "{'label': 4, 'time_series': [4.5, 5.6, 6.7, 7.8, 8.9], 'exemplars': [[2.0, 3.1, 4.2, 5.3, 6.4], [1.0, 2.1, 3.2, 4.3, 5.4]]}\n",
      "\n",
      "rdd num partitions: 2\n"
     ]
    }
   ],
   "source": [
    "def create_sample_and_add_column_function(num_exemplars):\n",
    "    def sample_and_add_column(iterator):\n",
    "        partition_data = list(iterator)\n",
    "        exemplars = []\n",
    "        for row in sample(partition_data, min(num_exemplars, len(partition_data))):\n",
    "            exemplars.append(row['time_series'])\n",
    "        return iter([{**row, \"exemplars\": exemplars} for row in partition_data])\n",
    "    return sample_and_add_column\n",
    "\n",
    "# Example usage\n",
    "num_exemplars = 2\n",
    "\n",
    "chosen_exemplars = create_sample_and_add_column_function(num_exemplars)\n",
    "rdd_with_exemplar_column = rdd.mapPartitions(chosen_exemplars)\n",
    "\n",
    "for row in rdd_with_exemplar_column.collect():\n",
    "    print(row)\n",
    "\n",
    "print(f'\\nrdd num partitions: {rdd_with_exemplar_column.getNumPartitions()}')"
   ]
  },
  {
   "cell_type": "code",
   "execution_count": 75,
   "id": "b7bed113",
   "metadata": {},
   "outputs": [
    {
     "name": "stdout",
     "output_type": "stream",
     "text": [
      "{'label': 3, 'time_series': [3.0, 4.1, 5.2, 6.3, 7.4], 'exemplars': [[2.5, 3.6, 4.7, 5.8, 6.9], [4.0, 5.1, 6.2, 7.3, 8.4]], 'dtw_distance_exemplar_1': 1.1180339887498947, 'dtw_distance_exemplar_2': 1.42828568570857}\n",
      "{'label': 4, 'time_series': [4.0, 5.1, 6.2, 7.3, 8.4], 'exemplars': [[2.5, 3.6, 4.7, 5.8, 6.9], [4.0, 5.1, 6.2, 7.3, 8.4]], 'dtw_distance_exemplar_1': 2.2671568097509267, 'dtw_distance_exemplar_2': 0.0}\n",
      "{'label': 1, 'time_series': [1.5, 2.6, 3.7, 4.8, 5.9], 'exemplars': [[2.5, 3.6, 4.7, 5.8, 6.9], [4.0, 5.1, 6.2, 7.3, 8.4]], 'dtw_distance_exemplar_1': 1.42828568570857, 'dtw_distance_exemplar_2': 4.085339643163099}\n",
      "{'label': 2, 'time_series': [2.5, 3.6, 4.7, 5.8, 6.9], 'exemplars': [[2.5, 3.6, 4.7, 5.8, 6.9], [4.0, 5.1, 6.2, 7.3, 8.4]], 'dtw_distance_exemplar_1': 0.0, 'dtw_distance_exemplar_2': 2.2671568097509267}\n",
      "{'label': 3, 'time_series': [3.5, 4.6, 5.7, 6.8, 7.9], 'exemplars': [[2.5, 3.6, 4.7, 5.8, 6.9], [4.0, 5.1, 6.2, 7.3, 8.4]], 'dtw_distance_exemplar_1': 1.42828568570857, 'dtw_distance_exemplar_2': 1.118033988749895}\n",
      "{'label': 1, 'time_series': [1.0, 2.1, 3.2, 4.3, 5.4], 'exemplars': [[2.0, 3.1, 4.2, 5.3, 6.4], [1.0, 2.1, 3.2, 4.3, 5.4]], 'dtw_distance_exemplar_1': 1.42828568570857, 'dtw_distance_exemplar_2': 0.0}\n",
      "{'label': 2, 'time_series': [2.0, 3.1, 4.2, 5.3, 6.4], 'exemplars': [[2.0, 3.1, 4.2, 5.3, 6.4], [1.0, 2.1, 3.2, 4.3, 5.4]], 'dtw_distance_exemplar_1': 0.0, 'dtw_distance_exemplar_2': 1.42828568570857}\n",
      "{'label': 4, 'time_series': [4.5, 5.6, 6.7, 7.8, 8.9], 'exemplars': [[2.0, 3.1, 4.2, 5.3, 6.4], [1.0, 2.1, 3.2, 4.3, 5.4]], 'dtw_distance_exemplar_1': 4.085339643163099, 'dtw_distance_exemplar_2': 6.283311228962003}\n",
      "\n",
      "rdd num partitions: 2\n"
     ]
    }
   ],
   "source": [
    "def calc_dtw_distance(iterator):\n",
    "    partition_data = list(iterator)\n",
    "    updated_rows = []\n",
    "    \n",
    "    for row in partition_data:\n",
    "        time_series = row['time_series']\n",
    "        exemplars = row['exemplars']\n",
    "        \n",
    "        # Calculate DTW distances for each exemplar\n",
    "        dtw_distances = [dtw.distance(time_series, exemplar) for exemplar in exemplars]\n",
    "        \n",
    "        # Add each DTW distance as a separate column\n",
    "        updated_row = {**row}\n",
    "        for i, dtw_distance in enumerate(dtw_distances):\n",
    "            updated_row[f\"dtw_distance_exemplar_{i+1}\"] = dtw_distance\n",
    "        \n",
    "        updated_rows.append(updated_row)\n",
    "    \n",
    "    return iter(updated_rows)\n",
    "\n",
    "# Example usage\n",
    "rdd_with_dtw = rdd_with_exemplar_column.mapPartitions(calc_dtw_distance)\n",
    "for row in rdd_with_dtw.collect():\n",
    "    print(row)\n",
    "\n",
    "print(f'\\nrdd num partitions: {rdd_with_dtw.getNumPartitions()}')"
   ]
  },
  {
   "cell_type": "code",
   "execution_count": 76,
   "id": "667bd906",
   "metadata": {},
   "outputs": [
    {
     "name": "stdout",
     "output_type": "stream",
     "text": [
      "{'label': 3, 'time_series': [3.0, 4.1, 5.2, 6.3, 7.4], 'exemplars': [[2.5, 3.6, 4.7, 5.8, 6.9], [4.0, 5.1, 6.2, 7.3, 8.4]], 'dtw_distance_exemplar_1': 1.1180339887498947, 'dtw_distance_exemplar_2': 1.42828568570857, 'closest exemplar': 'dtw_distance_exemplar_1'}\n",
      "{'label': 4, 'time_series': [4.0, 5.1, 6.2, 7.3, 8.4], 'exemplars': [[2.5, 3.6, 4.7, 5.8, 6.9], [4.0, 5.1, 6.2, 7.3, 8.4]], 'dtw_distance_exemplar_1': 2.2671568097509267, 'dtw_distance_exemplar_2': 0.0, 'closest exemplar': 'dtw_distance_exemplar_2'}\n",
      "{'label': 1, 'time_series': [1.5, 2.6, 3.7, 4.8, 5.9], 'exemplars': [[2.5, 3.6, 4.7, 5.8, 6.9], [4.0, 5.1, 6.2, 7.3, 8.4]], 'dtw_distance_exemplar_1': 1.42828568570857, 'dtw_distance_exemplar_2': 4.085339643163099, 'closest exemplar': 'dtw_distance_exemplar_1'}\n",
      "{'label': 2, 'time_series': [2.5, 3.6, 4.7, 5.8, 6.9], 'exemplars': [[2.5, 3.6, 4.7, 5.8, 6.9], [4.0, 5.1, 6.2, 7.3, 8.4]], 'dtw_distance_exemplar_1': 0.0, 'dtw_distance_exemplar_2': 2.2671568097509267, 'closest exemplar': 'dtw_distance_exemplar_1'}\n",
      "{'label': 3, 'time_series': [3.5, 4.6, 5.7, 6.8, 7.9], 'exemplars': [[2.5, 3.6, 4.7, 5.8, 6.9], [4.0, 5.1, 6.2, 7.3, 8.4]], 'dtw_distance_exemplar_1': 1.42828568570857, 'dtw_distance_exemplar_2': 1.118033988749895, 'closest exemplar': 'dtw_distance_exemplar_2'}\n",
      "{'label': 1, 'time_series': [1.0, 2.1, 3.2, 4.3, 5.4], 'exemplars': [[2.0, 3.1, 4.2, 5.3, 6.4], [1.0, 2.1, 3.2, 4.3, 5.4]], 'dtw_distance_exemplar_1': 1.42828568570857, 'dtw_distance_exemplar_2': 0.0, 'closest exemplar': 'dtw_distance_exemplar_2'}\n",
      "{'label': 2, 'time_series': [2.0, 3.1, 4.2, 5.3, 6.4], 'exemplars': [[2.0, 3.1, 4.2, 5.3, 6.4], [1.0, 2.1, 3.2, 4.3, 5.4]], 'dtw_distance_exemplar_1': 0.0, 'dtw_distance_exemplar_2': 1.42828568570857, 'closest exemplar': 'dtw_distance_exemplar_1'}\n",
      "{'label': 4, 'time_series': [4.5, 5.6, 6.7, 7.8, 8.9], 'exemplars': [[2.0, 3.1, 4.2, 5.3, 6.4], [1.0, 2.1, 3.2, 4.3, 5.4]], 'dtw_distance_exemplar_1': 4.085339643163099, 'dtw_distance_exemplar_2': 6.283311228962003, 'closest exemplar': 'dtw_distance_exemplar_1'}\n"
     ]
    }
   ],
   "source": [
    "# not sure if this is needed\n",
    "\n",
    "def assign_closest_exemplar(iterator):\n",
    "    partition_data = list(iterator)\n",
    "\n",
    "    for row in partition_data:\n",
    "        # Check if there are DTW distances for exemplars\n",
    "        exemplar_distances = {key: value for key, value in row.items() if key.startswith(\"dtw_distance_exemplar_\")}\n",
    "        \n",
    "        if exemplar_distances:\n",
    "            # Find the exemplar with the smallest DTW distance\n",
    "            closest_exemplar = min(exemplar_distances, key=exemplar_distances.get)\n",
    "            \n",
    "            # Assign the closest exemplar to the row\n",
    "            row[\"closest exemplar\"] = closest_exemplar\n",
    "\n",
    "    return iter(partition_data)\n",
    "\n",
    "# Example usage\n",
    "rdd_with_classification = rdd_with_dtw.mapPartitions(assign_closest_exemplar)\n",
    "for row in rdd_with_classification.collect():\n",
    "    print(row)"
   ]
  },
  {
   "cell_type": "code",
   "execution_count": 77,
   "id": "a1539859",
   "metadata": {},
   "outputs": [],
   "source": [
    "def calculate_partition_gini(iterator):\n",
    "    labels = [row['label'] for row in iterator]\n",
    "\n",
    "    label_counts_dict = {}\n",
    "    for label in labels:\n",
    "        if label in label_counts_dict:\n",
    "            label_counts_dict[label] += 1\n",
    "        else:\n",
    "            label_counts_dict[label] = 1\n",
    "    \n",
    "    total = sum(label_counts_dict.values())\n",
    "    proportion_sqrd_values = [(count / total) ** 2 for count in label_counts_dict.values()]\n",
    "    gini_impurity = 1 - sum(proportion_sqrd_values)\n",
    "    \n",
    "    return iter([gini_impurity])"
   ]
  },
  {
   "cell_type": "code",
   "execution_count": 78,
   "id": "34b0d24e",
   "metadata": {},
   "outputs": [
    {
     "name": "stdout",
     "output_type": "stream",
     "text": [
      "gini impurity of partition 1: 0.72\n",
      "gini impurity of partition 2: 0.6666666666666667\n"
     ]
    }
   ],
   "source": [
    "# Example usage\n",
    "gini_rdd = rdd_with_classification.mapPartitions(calculate_partition_gini)\n",
    "\n",
    "# Collect and print the Gini impurity for each partition\n",
    "i=0\n",
    "for gini in gini_rdd.collect():\n",
    "    print(f'gini impurity of partition {i+1}: {gini}')\n",
    "    i+=1"
   ]
  },
  {
   "cell_type": "markdown",
   "id": "c321d01d",
   "metadata": {},
   "source": [
    "### trying splitting code"
   ]
  },
  {
   "cell_type": "code",
   "execution_count": 79,
   "id": "56633663",
   "metadata": {},
   "outputs": [],
   "source": [
    "# tsdata = [\n",
    "#     {'label': 1, 'time_series': [1.2, 2.4, 3.6, 4.8, 6.0], 'closest_exemplar': 'exemplar_1'},\n",
    "#     {'label': 2, 'time_series': [2.1, 3.3, 4.5, 5.7, 6.9], 'closest_exemplar': 'exemplar_2'},\n",
    "#     {'label': 3, 'time_series': [0.5, 1.5, 2.5, 3.5, 4.5], 'closest_exemplar': 'exemplar_1'},\n",
    "#     {'label': 2, 'time_series': [3.0, 3.8, 4.6, 5.4, 6.2], 'closest_exemplar': 'exemplar_2'},\n",
    "#     {'label': 1, 'time_series': [1.0, 1.8, 2.6, 3.4, 4.2], 'closest_exemplar': 'exemplar_1'},\n",
    "#     {'label': 4, 'time_series': [5.5, 6.6, 7.7, 8.8, 9.9], 'closest_exemplar': 'exemplar_2'},\n",
    "#     {'label': 3, 'time_series': [2.0, 2.5, 3.0, 3.5, 4.0], 'closest_exemplar': 'exemplar_1'},\n",
    "#     {'label': 4, 'time_series': [6.1, 6.2, 6.3, 6.4, 6.5], 'closest_exemplar': 'exemplar_2'},\n",
    "#     {'label': 1, 'time_series': [0.9, 1.8, 2.7, 3.6, 4.5], 'closest_exemplar': 'exemplar_1'},\n",
    "#     {'label': 2, 'time_series': [3.3, 4.1, 4.9, 5.7, 6.5], 'closest_exemplar': 'exemplar_2'}\n",
    "# ]\n",
    "\n",
    "# ts_rdd = sc.parallelize(tsdata)\n",
    "# ts_rdd = ts_rdd.repartition(2)\n",
    "\n",
    "# print(f'ts_rdd num partitions: {ts_rdd.getNumPartitions()}')\n",
    "\n",
    "# ts_rdd_gini = ts_rdd.mapPartitions(calculate_partition_gini)\n",
    "# # Collect and print the Gini impurity for each partition\n",
    "# i=0\n",
    "# for gini in ts_rdd_gini.collect():\n",
    "#     print(f'gini impurity of partition {i+1}: {gini}')\n",
    "#     i+=1"
   ]
  },
  {
   "cell_type": "code",
   "execution_count": 80,
   "id": "2062c65a",
   "metadata": {},
   "outputs": [],
   "source": [
    "# closestto1_yes = [row['label'] for row in tsdata if row['closest_exemplar'] == 'exemplar_1']\n",
    "# closestto1_no = [row['label'] for row in tsdata if row['closest_exemplar'] != 'exemplar_1']\n",
    "\n",
    "# print(closestto1_yes)\n",
    "# print(closestto1_no)"
   ]
  },
  {
   "cell_type": "code",
   "execution_count": 84,
   "id": "f56951b8",
   "metadata": {},
   "outputs": [],
   "source": [
    "def calculate_gini(labels):\n",
    "    label_counts = {}\n",
    "    for label in labels:\n",
    "        label_counts[label] = label_counts.get(label, 0) + 1\n",
    "    total = sum(label_counts.values())\n",
    "    gini = 1 - sum((count / total) ** 2 for count in label_counts.values())\n",
    "    return gini\n",
    "\n",
    "def evaluate_splits_within_partition(iterator):\n",
    "    partition_data = list(iterator)\n",
    "    \n",
    "    # If the partition is empty, return an empty iterator\n",
    "    if not partition_data:\n",
    "        return iter([])\n",
    "    \n",
    "    # Get all unique exemplar names in the partition\n",
    "    unique_exemplars = set(row['closest exemplar'] for row in partition_data)\n",
    "    \n",
    "    results = []\n",
    "    \n",
    "    # Loop through each exemplar to evaluate splits\n",
    "    for exemplar_name in unique_exemplars:\n",
    "        # Split the data based on the current exemplar\n",
    "        yes_split = [row for row in partition_data if row['closest exemplar'] == exemplar_name]\n",
    "        no_split = [row for row in partition_data if row['closest exemplar'] != exemplar_name]\n",
    "        \n",
    "        # Calculate metrics for the split (e.g., Gini impurity)\n",
    "        yes_labels = [row['label'] for row in yes_split]\n",
    "        no_labels = [row['label'] for row in no_split]\n",
    "        \n",
    "        yes_gini = calculate_gini(yes_labels)\n",
    "        no_gini = calculate_gini(no_labels)\n",
    "        \n",
    "        # Store the results for this split\n",
    "        results.append({\n",
    "            'exemplar': exemplar_name,\n",
    "            'yes_gini': yes_gini,\n",
    "            'no_gini': no_gini,\n",
    "            'yes_split_size': len(yes_split),\n",
    "            'no_split_size': len(no_split)\n",
    "        })\n",
    "    \n",
    "    # Return the results as an iterator\n",
    "    return iter(results)"
   ]
  },
  {
   "cell_type": "code",
   "execution_count": 85,
   "id": "864a41e9",
   "metadata": {},
   "outputs": [
    {
     "name": "stdout",
     "output_type": "stream",
     "text": [
      "{'exemplar': 'dtw_distance_exemplar_1', 'yes_gini': 0.6666666666666667, 'no_gini': 0.5, 'yes_split_size': 3, 'no_split_size': 2}\n",
      "{'exemplar': 'dtw_distance_exemplar_2', 'yes_gini': 0.5, 'no_gini': 0.6666666666666667, 'yes_split_size': 2, 'no_split_size': 3}\n",
      "{'exemplar': 'dtw_distance_exemplar_1', 'yes_gini': 0.5, 'no_gini': 0.0, 'yes_split_size': 2, 'no_split_size': 1}\n",
      "{'exemplar': 'dtw_distance_exemplar_2', 'yes_gini': 0.0, 'no_gini': 0.5, 'yes_split_size': 1, 'no_split_size': 2}\n"
     ]
    }
   ],
   "source": [
    "# example usage\n",
    "ts_rdd_split_results = rdd_with_classification.mapPartitions(evaluate_splits_within_partition)\n",
    "# Collect and print the results\n",
    "for result in ts_rdd_split_results.collect():\n",
    "    print(result)"
   ]
  },
  {
   "cell_type": "code",
   "execution_count": 36,
   "id": "59e67b9d",
   "metadata": {},
   "outputs": [],
   "source": [
    "# def split_within_partition(iterator):\n",
    "#     partition_data = list(iterator)\n",
    "#     exemplar_name = partition_data[0]['closest_exemplar'] # randomly chosen exemplar name\n",
    "    \n",
    "#     # Split the data within the partition\n",
    "#     yes_split = [row for row in partition_data if row['closest_exemplar'] == exemplar_name]\n",
    "#     no_split = [row for row in partition_data if row['closest_exemplar'] != exemplar_name]\n",
    "    \n",
    "#     # Add a flag to indicate which split the row belongs to\n",
    "#     yes_split = [{**row, 'split': 'yes'} for row in yes_split]\n",
    "#     no_split = [{**row, 'split': 'no'} for row in no_split]\n",
    "    \n",
    "#     # Combine the splits and return as an iterator\n",
    "#     return iter(yes_split + no_split)"
   ]
  },
  {
   "cell_type": "code",
   "execution_count": 37,
   "id": "4e50d306",
   "metadata": {},
   "outputs": [
    {
     "name": "stdout",
     "output_type": "stream",
     "text": [
      "{'label': 3, 'time_series': [0.5, 1.5, 2.5, 3.5, 4.5], 'closest_exemplar': 'exemplar_1', 'split': 'yes'}\n",
      "{'label': 1, 'time_series': [1.0, 1.8, 2.6, 3.4, 4.2], 'closest_exemplar': 'exemplar_1', 'split': 'yes'}\n",
      "{'label': 3, 'time_series': [2.0, 2.5, 3.0, 3.5, 4.0], 'closest_exemplar': 'exemplar_1', 'split': 'yes'}\n",
      "{'label': 2, 'time_series': [3.0, 3.8, 4.6, 5.4, 6.2], 'closest_exemplar': 'exemplar_2', 'split': 'no'}\n",
      "{'label': 4, 'time_series': [5.5, 6.6, 7.7, 8.8, 9.9], 'closest_exemplar': 'exemplar_2', 'split': 'no'}\n",
      "{'label': 4, 'time_series': [6.1, 6.2, 6.3, 6.4, 6.5], 'closest_exemplar': 'exemplar_2', 'split': 'no'}\n",
      "{'label': 1, 'time_series': [1.2, 2.4, 3.6, 4.8, 6.0], 'closest_exemplar': 'exemplar_1', 'split': 'yes'}\n",
      "{'label': 1, 'time_series': [0.9, 1.8, 2.7, 3.6, 4.5], 'closest_exemplar': 'exemplar_1', 'split': 'yes'}\n",
      "{'label': 2, 'time_series': [2.1, 3.3, 4.5, 5.7, 6.9], 'closest_exemplar': 'exemplar_2', 'split': 'no'}\n",
      "{'label': 2, 'time_series': [3.3, 4.1, 4.9, 5.7, 6.5], 'closest_exemplar': 'exemplar_2', 'split': 'no'}\n"
     ]
    }
   ],
   "source": [
    "# # example usage\n",
    "# split_rdd = ts_rdd.mapPartitions(split_within_partition)\n",
    "\n",
    "# # Collect and print the results\n",
    "# for row in split_rdd.collect():\n",
    "#     print(row)"
   ]
  },
  {
   "cell_type": "markdown",
   "id": "5fe273b5",
   "metadata": {},
   "source": [
    "###running petrus stuff real quick"
   ]
  },
  {
   "cell_type": "code",
   "execution_count": 46,
   "id": "71441488",
   "metadata": {},
   "outputs": [],
   "source": []
  },
  {
   "cell_type": "code",
   "execution_count": null,
   "id": "317f59db",
   "metadata": {},
   "outputs": [],
   "source": [
    "import pickle\n",
    "import pandas as pd\n",
    "import numpy as np\n",
    "from pyspark.sql import DataFrame\n",
    "from aeon.classification.distance_based import ProximityTree, ProximityForest\n",
    "import logging\n",
    "from random import sample\n",
    "from dtaidistance import dtw\n",
    "\n",
    "class GlobalModelManager:\n",
    "    def __init__(self):\n",
    "        self.num_exemplars = 3\n",
    "        self.num_partitions = 2\n",
    "\n",
    "    def train(self, df: DataFrame):\n",
    "        rdd = self.partition_data(df)\n",
    "        rdd = rdd.repartition(self.num_partitions)\n",
    "\n",
    "        choose_exemplars = self.choose_exemplars_function(self.num_exemplars)\n",
    "        rdd_with_exemplar_column = rdd.mapPartitions(choose_exemplars)\n",
    "\n",
    "        rdd_with_dtw = rdd_with_exemplar_column.mapPartitions(self.calc_dtw_distance)\n",
    "\n",
    "        rdd_with_closest_exemplar = rdd_with_dtw.mapPartitions(self.assign_closest_exemplar)\n",
    "\n",
    "        rdd_with_gini = rdd_with_closest_exemplar.mapPartitions(self.calculate_partition_gini) # gini impurity before splitting\n",
    "\n",
    "        rdd_splits = rdd_with_closest_exemplar.mapPartitions(self.evaluate_splits_within_partition)\n",
    "\n",
    "        return rdd_splits.collect()\n",
    "\n",
    "    def partition_data(self, df: DataFrame) -> DataFrame:\n",
    "        rdd = df.rdd\n",
    "        repartitioned_rdd = rdd.repartition(self.num_partitions)\n",
    "        return repartitioned_rdd\n",
    "\n",
    "    def choose_exemplars_function(self, num_exemplars):\n",
    "        def choose_exemplars(iterator):\n",
    "            partition_data = list(iterator)\n",
    "            exemplars = []\n",
    "            for row in sample(partition_data, min(num_exemplars, len(partition_data))):\n",
    "                exemplars.append(row['time_series'])\n",
    "            return iter([{**row.asDict(), \"exemplars\": exemplars} for row in partition_data])\n",
    "        return choose_exemplars\n",
    "    \n",
    "    def calc_dtw_distance(self, iterator):\n",
    "        partition_data = list(iterator)\n",
    "        updated_rows = []\n",
    "        \n",
    "        for row in partition_data:\n",
    "            time_series = row['time_series']\n",
    "            exemplars = row['exemplars']\n",
    "            \n",
    "            dtw_distances = [dtw.distance(time_series, exemplar) for exemplar in exemplars]\n",
    "            \n",
    "            updated_row = {**row}\n",
    "\n",
    "            for i, dtw_distance in enumerate(dtw_distances):\n",
    "                updated_row[f\"dtw_distance_exemplar_{i+1}\"] = dtw_distance\n",
    "            \n",
    "            updated_rows.append(updated_row)\n",
    "        \n",
    "        return iter(updated_rows)\n",
    "    \n",
    "    def assign_closest_exemplar(self, iterator):\n",
    "        partition_data = list(iterator)\n",
    "\n",
    "        for row in partition_data:\n",
    "            # Check if there are DTW distances for exemplars\n",
    "            exemplar_distances = {key: value for key, value in row.items() if key.startswith(\"dtw_distance_exemplar_\")}\n",
    "            \n",
    "            if exemplar_distances:\n",
    "                # Find the exemplar with the smallest DTW distance\n",
    "                closest_exemplar = min(exemplar_distances, key=exemplar_distances.get)\n",
    "                \n",
    "                # Assign the closest exemplar to the row\n",
    "                row[\"closest exemplar\"] = closest_exemplar\n",
    "\n",
    "        return iter(partition_data)\n",
    "    \n",
    "    def calculate_partition_gini(self, iterator):\n",
    "        partition_data = list(iterator)\n",
    "        labels = [row['label'] for row in partition_data]\n",
    "\n",
    "        # Calculate Gini impurity for the partition\n",
    "        label_counts_dict = {}\n",
    "        for label in labels:\n",
    "            label_counts_dict[label] = label_counts_dict.get(label, 0) + 1\n",
    "\n",
    "        total = sum(label_counts_dict.values())\n",
    "        proportion_sqrd_values = [(count / total) ** 2 for count in label_counts_dict.values()]\n",
    "        gini_impurity = 1 - sum(proportion_sqrd_values)\n",
    "\n",
    "        # Add Gini impurity to each row in the partition\n",
    "        updated_rows = []\n",
    "        for row in partition_data:\n",
    "            updated_row = {**row, \"partition_gini\": gini_impurity}\n",
    "            updated_rows.append(updated_row)\n",
    "\n",
    "        return iter(updated_rows)\n",
    "    \n",
    "    def calculate_gini(self, labels):\n",
    "        label_counts = {}\n",
    "        for label in labels:\n",
    "            label_counts[label] = label_counts.get(label, 0) + 1\n",
    "        total = sum(label_counts.values())\n",
    "        gini = 1 - sum((count / total) ** 2 for count in label_counts.values())\n",
    "        return gini\n",
    "\n",
    "    def evaluate_splits_within_partition(self, iterator):\n",
    "        partition_data = list(iterator)\n",
    "        \n",
    "        # If the partition is empty, return an empty iterator\n",
    "        if not partition_data:\n",
    "            return iter([])\n",
    "        \n",
    "        partition_gini = self.calculate_partition_gini(partition_data)\n",
    "        \n",
    "        # Get all unique exemplar names in the partition\n",
    "        unique_exemplars = set(row['closest exemplar'] for row in partition_data)\n",
    "        \n",
    "        updated_rows = []\n",
    "        \n",
    "        # Loop through each exemplar to evaluate splits\n",
    "        for exemplar_name in unique_exemplars:\n",
    "            # Split the data based on the current exemplar\n",
    "            yes_split = [row for row in partition_data if row['closest exemplar'] == exemplar_name]\n",
    "            no_split = [row for row in partition_data if row['closest exemplar'] != exemplar_name]\n",
    "            \n",
    "            # Calculate metrics for the split (e.g., Gini impurity)\n",
    "            yes_labels = [row['label'] for row in yes_split]\n",
    "            no_labels = [row['label'] for row in no_split]\n",
    "            \n",
    "            yes_gini = self.calculate_gini(yes_labels)\n",
    "            no_gini = self.calculate_gini(no_labels)\n",
    "            \n",
    "            # Add the split information to each row in the partition\n",
    "            for row in partition_data:\n",
    "                updated_row = {\n",
    "                    **row,\n",
    "                    \"before_split_partition_gini\": partition_gini,\n",
    "                    \"split_exemplar\": exemplar_name,\n",
    "                    \"yes_gini\": yes_gini,\n",
    "                    \"no_gini\": no_gini,\n",
    "                    \"yes_split_size\": len(yes_split),\n",
    "                    \"no_split_size\": len(no_split)\n",
    "                }\n",
    "                updated_rows.append(updated_row)\n",
    "    \n",
    "        # Return the updated rows as an iterator\n",
    "        return iter(updated_rows)"
   ]
  },
  {
   "cell_type": "code",
   "execution_count": 97,
   "id": "710807b6",
   "metadata": {},
   "outputs": [],
   "source": [
    "tsdata = [\n",
    "    {'label': 1, 'time_series': [1.2, 2.4, 3.6, 4.8, 6.0]},\n",
    "    {'label': 1, 'time_series': [1.0, 1.8, 2.6, 3.4, 4.2]},\n",
    "    {'label': 1, 'time_series': [0.9, 1.8, 2.7, 3.6, 4.5]},\n",
    "    {'label': 1, 'time_series': [1.5, 2.1, 2.7, 3.3, 3.9]},\n",
    "    {'label': 1, 'time_series': [0.8, 1.7, 2.5, 3.2, 4.0]},\n",
    "    {'label': 2, 'time_series': [2.1, 3.3, 4.5, 5.7, 6.9]},\n",
    "    {'label': 2, 'time_series': [3.0, 3.8, 4.6, 5.4, 6.2]},\n",
    "    {'label': 2, 'time_series': [3.3, 4.1, 4.9, 5.7, 6.5]},\n",
    "    {'label': 3, 'time_series': [0.5, 1.5, 2.5, 3.5, 4.5]},\n",
    "    {'label': 3, 'time_series': [2.0, 2.5, 3.0, 3.5, 4.0]},\n",
    "    {'label': 4, 'time_series': [5.5, 6.6, 7.7, 8.8, 9.9]},\n",
    "    {'label': 4, 'time_series': [6.1, 6.2, 6.3, 6.4, 6.5]},\n",
    "    {'label': 1, 'time_series': [0.7, 1.3, 1.9, 2.5, 3.1]},\n",
    "    {'label': 1, 'time_series': [1.1, 2.1, 3.1, 4.1, 5.1]},\n",
    "    {'label': 1, 'time_series': [0.6, 1.2, 1.8, 2.4, 3.0]},\n",
    "    {'label': 2, 'time_series': [2.4, 3.5, 4.6, 5.7, 6.8]},\n",
    "    {'label': 2, 'time_series': [1.9, 2.8, 3.7, 4.6, 5.5]},\n",
    "    {'label': 3, 'time_series': [1.0, 1.8, 2.6, 3.4, 4.2]},\n",
    "    {'label': 4, 'time_series': [6.0, 7.0, 8.0, 9.0, 10.0]},\n",
    "    {'label': 1, 'time_series': [1.3, 2.3, 3.3, 4.3, 5.3]}\n",
    "]\n",
    "\n",
    "df = spark.createDataFrame(tsdata)\n",
    "df = df.repartition(2)"
   ]
  },
  {
   "cell_type": "code",
   "execution_count": 64,
   "id": "9aa8a878",
   "metadata": {},
   "outputs": [
    {
     "name": "stdout",
     "output_type": "stream",
     "text": [
      "+-----+--------------------+\n",
      "|label|         time_series|\n",
      "+-----+--------------------+\n",
      "|    1|[1.0, 1.8, 2.6, 3...|\n",
      "|    1|[0.9, 1.8, 2.7, 3...|\n",
      "|    2|[2.1, 3.3, 4.5, 5...|\n",
      "|    3|[2.0, 2.5, 3.0, 3...|\n",
      "|    2|[3.3, 4.1, 4.9, 5...|\n",
      "+-----+--------------------+\n",
      "only showing top 5 rows\n",
      "\n"
     ]
    }
   ],
   "source": [
    "df.show(5)"
   ]
  },
  {
   "cell_type": "code",
   "execution_count": 102,
   "id": "ea7a4e9d",
   "metadata": {},
   "outputs": [
    {
     "name": "stdout",
     "output_type": "stream",
     "text": [
      "{'label': 1, 'time_series': [1.2, 2.4, 3.6, 4.8, 6.0], 'exemplars': [[0.7, 1.3, 1.9, 2.5, 3.1], [0.8, 1.7, 2.5, 3.2, 4.0], [1.5, 2.1, 2.7, 3.3, 3.9]], 'dtw_distance_exemplar_1': 3.4741905532080417, 'dtw_distance_exemplar_2': 2.2847319317591723, 'dtw_distance_exemplar_3': 2.3622023622035435, 'closest exemplar': 'dtw_distance_exemplar_2', 'before_split_partition_gini': <list_iterator object at 0x000001ECAC73C2B0>, 'split_exemplar': 'dtw_distance_exemplar_1', 'yes_gini': 0.0, 'no_gini': 0.6666666666666667, 'yes_split_size': 1, 'no_split_size': 9}\n",
      "{'label': 1, 'time_series': [1.5, 2.1, 2.7, 3.3, 3.9], 'exemplars': [[0.7, 1.3, 1.9, 2.5, 3.1], [0.8, 1.7, 2.5, 3.2, 4.0], [1.5, 2.1, 2.7, 3.3, 3.9]], 'dtw_distance_exemplar_1': 1.2, 'dtw_distance_exemplar_2': 0.8426149773176358, 'dtw_distance_exemplar_3': 0.0, 'closest exemplar': 'dtw_distance_exemplar_3', 'before_split_partition_gini': <list_iterator object at 0x000001ECAD34EAD0>, 'split_exemplar': 'dtw_distance_exemplar_1', 'yes_gini': 0.0, 'no_gini': 0.6666666666666667, 'yes_split_size': 1, 'no_split_size': 9}\n",
      "{'label': 1, 'time_series': [0.8, 1.7, 2.5, 3.2, 4.0], 'exemplars': [[0.7, 1.3, 1.9, 2.5, 3.1], [0.8, 1.7, 2.5, 3.2, 4.0], [1.5, 2.1, 2.7, 3.3, 3.9]], 'dtw_distance_exemplar_1': 1.014889156509222, 'dtw_distance_exemplar_2': 0.0, 'dtw_distance_exemplar_3': 0.8426149773176358, 'closest exemplar': 'dtw_distance_exemplar_2', 'before_split_partition_gini': <list_iterator object at 0x000001ECAD34EAD0>, 'split_exemplar': 'dtw_distance_exemplar_1', 'yes_gini': 0.0, 'no_gini': 0.6666666666666667, 'yes_split_size': 1, 'no_split_size': 9}\n",
      "{'label': 2, 'time_series': [3.0, 3.8, 4.6, 5.4, 6.2], 'exemplars': [[0.7, 1.3, 1.9, 2.5, 3.1], [0.8, 1.7, 2.5, 3.2, 4.0], [1.5, 2.1, 2.7, 3.3, 3.9]], 'dtw_distance_exemplar_1': 5.223025942880239, 'dtw_distance_exemplar_2': 3.7443290453698115, 'dtw_distance_exemplar_3': 3.358571124749333, 'closest exemplar': 'dtw_distance_exemplar_3', 'before_split_partition_gini': <list_iterator object at 0x000001ECAD34E980>, 'split_exemplar': 'dtw_distance_exemplar_1', 'yes_gini': 0.0, 'no_gini': 0.6666666666666667, 'yes_split_size': 1, 'no_split_size': 9}\n",
      "{'label': 3, 'time_series': [0.5, 1.5, 2.5, 3.5, 4.5], 'exemplars': [[0.7, 1.3, 1.9, 2.5, 3.1], [0.8, 1.7, 2.5, 3.2, 4.0], [1.5, 2.1, 2.7, 3.3, 3.9]], 'dtw_distance_exemplar_1': 1.5362291495737215, 'dtw_distance_exemplar_2': 0.6855654600401043, 'dtw_distance_exemplar_3': 1.2649110640673518, 'closest exemplar': 'dtw_distance_exemplar_2', 'before_split_partition_gini': <list_iterator object at 0x000001ECAD34E980>, 'split_exemplar': 'dtw_distance_exemplar_1', 'yes_gini': 0.0, 'no_gini': 0.6666666666666667, 'yes_split_size': 1, 'no_split_size': 9}\n",
      "{'label': 4, 'time_series': [6.1, 6.2, 6.3, 6.4, 6.5], 'exemplars': [[0.7, 1.3, 1.9, 2.5, 3.1], [0.8, 1.7, 2.5, 3.2, 4.0], [1.5, 2.1, 2.7, 3.3, 3.9]], 'dtw_distance_exemplar_1': 9.96493853468249, 'dtw_distance_exemplar_2': 8.90337014843256, 'dtw_distance_exemplar_3': 8.203657720797473, 'closest exemplar': 'dtw_distance_exemplar_3', 'before_split_partition_gini': <list_iterator object at 0x000001ECAD34E980>, 'split_exemplar': 'dtw_distance_exemplar_1', 'yes_gini': 0.0, 'no_gini': 0.6666666666666667, 'yes_split_size': 1, 'no_split_size': 9}\n",
      "{'label': 1, 'time_series': [0.7, 1.3, 1.9, 2.5, 3.1], 'exemplars': [[0.7, 1.3, 1.9, 2.5, 3.1], [0.8, 1.7, 2.5, 3.2, 4.0], [1.5, 2.1, 2.7, 3.3, 3.9]], 'dtw_distance_exemplar_1': 0.0, 'dtw_distance_exemplar_2': 1.014889156509222, 'dtw_distance_exemplar_3': 1.2, 'closest exemplar': 'dtw_distance_exemplar_1', 'before_split_partition_gini': <list_iterator object at 0x000001ECAD34E980>, 'split_exemplar': 'dtw_distance_exemplar_1', 'yes_gini': 0.0, 'no_gini': 0.6666666666666667, 'yes_split_size': 1, 'no_split_size': 9}\n",
      "{'label': 2, 'time_series': [2.4, 3.5, 4.6, 5.7, 6.8], 'exemplars': [[0.7, 1.3, 1.9, 2.5, 3.1], [0.8, 1.7, 2.5, 3.2, 4.0], [1.5, 2.1, 2.7, 3.3, 3.9]], 'dtw_distance_exemplar_1': 5.217278984298233, 'dtw_distance_exemplar_2': 3.7735924528226414, 'dtw_distance_exemplar_3': 3.629049462324811, 'closest exemplar': 'dtw_distance_exemplar_3', 'before_split_partition_gini': <list_iterator object at 0x000001ECAD34E920>, 'split_exemplar': 'dtw_distance_exemplar_1', 'yes_gini': 0.0, 'no_gini': 0.6666666666666667, 'yes_split_size': 1, 'no_split_size': 9}\n",
      "{'label': 1, 'time_series': [1.3, 2.3, 3.3, 4.3, 5.3], 'exemplars': [[0.7, 1.3, 1.9, 2.5, 3.1], [0.8, 1.7, 2.5, 3.2, 4.0], [1.5, 2.1, 2.7, 3.3, 3.9]], 'dtw_distance_exemplar_1': 2.6229754097208, 'dtw_distance_exemplar_2': 1.4966629547095762, 'dtw_distance_exemplar_3': 1.5362291495737217, 'closest exemplar': 'dtw_distance_exemplar_2', 'before_split_partition_gini': <list_iterator object at 0x000001ECAD34E920>, 'split_exemplar': 'dtw_distance_exemplar_1', 'yes_gini': 0.0, 'no_gini': 0.6666666666666667, 'yes_split_size': 1, 'no_split_size': 9}\n",
      "{'label': 2, 'time_series': [1.9, 2.8, 3.7, 4.6, 5.5], 'exemplars': [[0.7, 1.3, 1.9, 2.5, 3.1], [0.8, 1.7, 2.5, 3.2, 4.0], [1.5, 2.1, 2.7, 3.3, 3.9]], 'dtw_distance_exemplar_1': 3.203123475609393, 'dtw_distance_exemplar_2': 2.0493901531919194, 'dtw_distance_exemplar_3': 1.849324200890693, 'closest exemplar': 'dtw_distance_exemplar_3', 'before_split_partition_gini': <list_iterator object at 0x000001ECAD34E920>, 'split_exemplar': 'dtw_distance_exemplar_1', 'yes_gini': 0.0, 'no_gini': 0.6666666666666667, 'yes_split_size': 1, 'no_split_size': 9}\n",
      "{'label': 1, 'time_series': [1.2, 2.4, 3.6, 4.8, 6.0], 'exemplars': [[0.7, 1.3, 1.9, 2.5, 3.1], [0.8, 1.7, 2.5, 3.2, 4.0], [1.5, 2.1, 2.7, 3.3, 3.9]], 'dtw_distance_exemplar_1': 3.4741905532080417, 'dtw_distance_exemplar_2': 2.2847319317591723, 'dtw_distance_exemplar_3': 2.3622023622035435, 'closest exemplar': 'dtw_distance_exemplar_2', 'before_split_partition_gini': <list_iterator object at 0x000001ECAD34E920>, 'split_exemplar': 'dtw_distance_exemplar_3', 'yes_gini': 0.5599999999999999, 'no_gini': 0.31999999999999984, 'yes_split_size': 5, 'no_split_size': 5}\n",
      "{'label': 1, 'time_series': [1.5, 2.1, 2.7, 3.3, 3.9], 'exemplars': [[0.7, 1.3, 1.9, 2.5, 3.1], [0.8, 1.7, 2.5, 3.2, 4.0], [1.5, 2.1, 2.7, 3.3, 3.9]], 'dtw_distance_exemplar_1': 1.2, 'dtw_distance_exemplar_2': 0.8426149773176358, 'dtw_distance_exemplar_3': 0.0, 'closest exemplar': 'dtw_distance_exemplar_3', 'before_split_partition_gini': <list_iterator object at 0x000001ECAD34E920>, 'split_exemplar': 'dtw_distance_exemplar_3', 'yes_gini': 0.5599999999999999, 'no_gini': 0.31999999999999984, 'yes_split_size': 5, 'no_split_size': 5}\n",
      "{'label': 1, 'time_series': [0.8, 1.7, 2.5, 3.2, 4.0], 'exemplars': [[0.7, 1.3, 1.9, 2.5, 3.1], [0.8, 1.7, 2.5, 3.2, 4.0], [1.5, 2.1, 2.7, 3.3, 3.9]], 'dtw_distance_exemplar_1': 1.014889156509222, 'dtw_distance_exemplar_2': 0.0, 'dtw_distance_exemplar_3': 0.8426149773176358, 'closest exemplar': 'dtw_distance_exemplar_2', 'before_split_partition_gini': <list_iterator object at 0x000001ECAD34E920>, 'split_exemplar': 'dtw_distance_exemplar_3', 'yes_gini': 0.5599999999999999, 'no_gini': 0.31999999999999984, 'yes_split_size': 5, 'no_split_size': 5}\n",
      "{'label': 2, 'time_series': [3.0, 3.8, 4.6, 5.4, 6.2], 'exemplars': [[0.7, 1.3, 1.9, 2.5, 3.1], [0.8, 1.7, 2.5, 3.2, 4.0], [1.5, 2.1, 2.7, 3.3, 3.9]], 'dtw_distance_exemplar_1': 5.223025942880239, 'dtw_distance_exemplar_2': 3.7443290453698115, 'dtw_distance_exemplar_3': 3.358571124749333, 'closest exemplar': 'dtw_distance_exemplar_3', 'before_split_partition_gini': <list_iterator object at 0x000001ECAD34E920>, 'split_exemplar': 'dtw_distance_exemplar_3', 'yes_gini': 0.5599999999999999, 'no_gini': 0.31999999999999984, 'yes_split_size': 5, 'no_split_size': 5}\n",
      "{'label': 3, 'time_series': [0.5, 1.5, 2.5, 3.5, 4.5], 'exemplars': [[0.7, 1.3, 1.9, 2.5, 3.1], [0.8, 1.7, 2.5, 3.2, 4.0], [1.5, 2.1, 2.7, 3.3, 3.9]], 'dtw_distance_exemplar_1': 1.5362291495737215, 'dtw_distance_exemplar_2': 0.6855654600401043, 'dtw_distance_exemplar_3': 1.2649110640673518, 'closest exemplar': 'dtw_distance_exemplar_2', 'before_split_partition_gini': <list_iterator object at 0x000001ECAD34E920>, 'split_exemplar': 'dtw_distance_exemplar_3', 'yes_gini': 0.5599999999999999, 'no_gini': 0.31999999999999984, 'yes_split_size': 5, 'no_split_size': 5}\n",
      "{'label': 4, 'time_series': [6.1, 6.2, 6.3, 6.4, 6.5], 'exemplars': [[0.7, 1.3, 1.9, 2.5, 3.1], [0.8, 1.7, 2.5, 3.2, 4.0], [1.5, 2.1, 2.7, 3.3, 3.9]], 'dtw_distance_exemplar_1': 9.96493853468249, 'dtw_distance_exemplar_2': 8.90337014843256, 'dtw_distance_exemplar_3': 8.203657720797473, 'closest exemplar': 'dtw_distance_exemplar_3', 'before_split_partition_gini': <list_iterator object at 0x000001ECAD42EB90>, 'split_exemplar': 'dtw_distance_exemplar_3', 'yes_gini': 0.5599999999999999, 'no_gini': 0.31999999999999984, 'yes_split_size': 5, 'no_split_size': 5}\n",
      "{'label': 1, 'time_series': [0.7, 1.3, 1.9, 2.5, 3.1], 'exemplars': [[0.7, 1.3, 1.9, 2.5, 3.1], [0.8, 1.7, 2.5, 3.2, 4.0], [1.5, 2.1, 2.7, 3.3, 3.9]], 'dtw_distance_exemplar_1': 0.0, 'dtw_distance_exemplar_2': 1.014889156509222, 'dtw_distance_exemplar_3': 1.2, 'closest exemplar': 'dtw_distance_exemplar_1', 'before_split_partition_gini': <list_iterator object at 0x000001ECAD42EB90>, 'split_exemplar': 'dtw_distance_exemplar_3', 'yes_gini': 0.5599999999999999, 'no_gini': 0.31999999999999984, 'yes_split_size': 5, 'no_split_size': 5}\n",
      "{'label': 2, 'time_series': [2.4, 3.5, 4.6, 5.7, 6.8], 'exemplars': [[0.7, 1.3, 1.9, 2.5, 3.1], [0.8, 1.7, 2.5, 3.2, 4.0], [1.5, 2.1, 2.7, 3.3, 3.9]], 'dtw_distance_exemplar_1': 5.217278984298233, 'dtw_distance_exemplar_2': 3.7735924528226414, 'dtw_distance_exemplar_3': 3.629049462324811, 'closest exemplar': 'dtw_distance_exemplar_3', 'before_split_partition_gini': <list_iterator object at 0x000001ECAD42EB90>, 'split_exemplar': 'dtw_distance_exemplar_3', 'yes_gini': 0.5599999999999999, 'no_gini': 0.31999999999999984, 'yes_split_size': 5, 'no_split_size': 5}\n",
      "{'label': 1, 'time_series': [1.3, 2.3, 3.3, 4.3, 5.3], 'exemplars': [[0.7, 1.3, 1.9, 2.5, 3.1], [0.8, 1.7, 2.5, 3.2, 4.0], [1.5, 2.1, 2.7, 3.3, 3.9]], 'dtw_distance_exemplar_1': 2.6229754097208, 'dtw_distance_exemplar_2': 1.4966629547095762, 'dtw_distance_exemplar_3': 1.5362291495737217, 'closest exemplar': 'dtw_distance_exemplar_2', 'before_split_partition_gini': <list_iterator object at 0x000001ECAD42EB90>, 'split_exemplar': 'dtw_distance_exemplar_3', 'yes_gini': 0.5599999999999999, 'no_gini': 0.31999999999999984, 'yes_split_size': 5, 'no_split_size': 5}\n",
      "{'label': 2, 'time_series': [1.9, 2.8, 3.7, 4.6, 5.5], 'exemplars': [[0.7, 1.3, 1.9, 2.5, 3.1], [0.8, 1.7, 2.5, 3.2, 4.0], [1.5, 2.1, 2.7, 3.3, 3.9]], 'dtw_distance_exemplar_1': 3.203123475609393, 'dtw_distance_exemplar_2': 2.0493901531919194, 'dtw_distance_exemplar_3': 1.849324200890693, 'closest exemplar': 'dtw_distance_exemplar_3', 'before_split_partition_gini': <list_iterator object at 0x000001ECAD42EB90>, 'split_exemplar': 'dtw_distance_exemplar_3', 'yes_gini': 0.5599999999999999, 'no_gini': 0.31999999999999984, 'yes_split_size': 5, 'no_split_size': 5}\n",
      "{'label': 1, 'time_series': [1.2, 2.4, 3.6, 4.8, 6.0], 'exemplars': [[0.7, 1.3, 1.9, 2.5, 3.1], [0.8, 1.7, 2.5, 3.2, 4.0], [1.5, 2.1, 2.7, 3.3, 3.9]], 'dtw_distance_exemplar_1': 3.4741905532080417, 'dtw_distance_exemplar_2': 2.2847319317591723, 'dtw_distance_exemplar_3': 2.3622023622035435, 'closest exemplar': 'dtw_distance_exemplar_2', 'before_split_partition_gini': <list_iterator object at 0x000001ECAD42EB90>, 'split_exemplar': 'dtw_distance_exemplar_2', 'yes_gini': 0.375, 'no_gini': 0.6111111111111112, 'yes_split_size': 4, 'no_split_size': 6}\n",
      "{'label': 1, 'time_series': [1.5, 2.1, 2.7, 3.3, 3.9], 'exemplars': [[0.7, 1.3, 1.9, 2.5, 3.1], [0.8, 1.7, 2.5, 3.2, 4.0], [1.5, 2.1, 2.7, 3.3, 3.9]], 'dtw_distance_exemplar_1': 1.2, 'dtw_distance_exemplar_2': 0.8426149773176358, 'dtw_distance_exemplar_3': 0.0, 'closest exemplar': 'dtw_distance_exemplar_3', 'before_split_partition_gini': <list_iterator object at 0x000001ECAD42EB90>, 'split_exemplar': 'dtw_distance_exemplar_2', 'yes_gini': 0.375, 'no_gini': 0.6111111111111112, 'yes_split_size': 4, 'no_split_size': 6}\n",
      "{'label': 1, 'time_series': [0.8, 1.7, 2.5, 3.2, 4.0], 'exemplars': [[0.7, 1.3, 1.9, 2.5, 3.1], [0.8, 1.7, 2.5, 3.2, 4.0], [1.5, 2.1, 2.7, 3.3, 3.9]], 'dtw_distance_exemplar_1': 1.014889156509222, 'dtw_distance_exemplar_2': 0.0, 'dtw_distance_exemplar_3': 0.8426149773176358, 'closest exemplar': 'dtw_distance_exemplar_2', 'before_split_partition_gini': <list_iterator object at 0x000001ECAD42EB90>, 'split_exemplar': 'dtw_distance_exemplar_2', 'yes_gini': 0.375, 'no_gini': 0.6111111111111112, 'yes_split_size': 4, 'no_split_size': 6}\n",
      "{'label': 2, 'time_series': [3.0, 3.8, 4.6, 5.4, 6.2], 'exemplars': [[0.7, 1.3, 1.9, 2.5, 3.1], [0.8, 1.7, 2.5, 3.2, 4.0], [1.5, 2.1, 2.7, 3.3, 3.9]], 'dtw_distance_exemplar_1': 5.223025942880239, 'dtw_distance_exemplar_2': 3.7443290453698115, 'dtw_distance_exemplar_3': 3.358571124749333, 'closest exemplar': 'dtw_distance_exemplar_3', 'before_split_partition_gini': <list_iterator object at 0x000001ECAD42EB90>, 'split_exemplar': 'dtw_distance_exemplar_2', 'yes_gini': 0.375, 'no_gini': 0.6111111111111112, 'yes_split_size': 4, 'no_split_size': 6}\n",
      "{'label': 3, 'time_series': [0.5, 1.5, 2.5, 3.5, 4.5], 'exemplars': [[0.7, 1.3, 1.9, 2.5, 3.1], [0.8, 1.7, 2.5, 3.2, 4.0], [1.5, 2.1, 2.7, 3.3, 3.9]], 'dtw_distance_exemplar_1': 1.5362291495737215, 'dtw_distance_exemplar_2': 0.6855654600401043, 'dtw_distance_exemplar_3': 1.2649110640673518, 'closest exemplar': 'dtw_distance_exemplar_2', 'before_split_partition_gini': <list_iterator object at 0x000001ECAD42EB90>, 'split_exemplar': 'dtw_distance_exemplar_2', 'yes_gini': 0.375, 'no_gini': 0.6111111111111112, 'yes_split_size': 4, 'no_split_size': 6}\n",
      "{'label': 4, 'time_series': [6.1, 6.2, 6.3, 6.4, 6.5], 'exemplars': [[0.7, 1.3, 1.9, 2.5, 3.1], [0.8, 1.7, 2.5, 3.2, 4.0], [1.5, 2.1, 2.7, 3.3, 3.9]], 'dtw_distance_exemplar_1': 9.96493853468249, 'dtw_distance_exemplar_2': 8.90337014843256, 'dtw_distance_exemplar_3': 8.203657720797473, 'closest exemplar': 'dtw_distance_exemplar_3', 'before_split_partition_gini': <list_iterator object at 0x000001ECAD42EB90>, 'split_exemplar': 'dtw_distance_exemplar_2', 'yes_gini': 0.375, 'no_gini': 0.6111111111111112, 'yes_split_size': 4, 'no_split_size': 6}\n",
      "{'label': 1, 'time_series': [0.7, 1.3, 1.9, 2.5, 3.1], 'exemplars': [[0.7, 1.3, 1.9, 2.5, 3.1], [0.8, 1.7, 2.5, 3.2, 4.0], [1.5, 2.1, 2.7, 3.3, 3.9]], 'dtw_distance_exemplar_1': 0.0, 'dtw_distance_exemplar_2': 1.014889156509222, 'dtw_distance_exemplar_3': 1.2, 'closest exemplar': 'dtw_distance_exemplar_1', 'before_split_partition_gini': <list_iterator object at 0x000001ECAD42EB90>, 'split_exemplar': 'dtw_distance_exemplar_2', 'yes_gini': 0.375, 'no_gini': 0.6111111111111112, 'yes_split_size': 4, 'no_split_size': 6}\n",
      "{'label': 2, 'time_series': [2.4, 3.5, 4.6, 5.7, 6.8], 'exemplars': [[0.7, 1.3, 1.9, 2.5, 3.1], [0.8, 1.7, 2.5, 3.2, 4.0], [1.5, 2.1, 2.7, 3.3, 3.9]], 'dtw_distance_exemplar_1': 5.217278984298233, 'dtw_distance_exemplar_2': 3.7735924528226414, 'dtw_distance_exemplar_3': 3.629049462324811, 'closest exemplar': 'dtw_distance_exemplar_3', 'before_split_partition_gini': <list_iterator object at 0x000001ECAD42EB90>, 'split_exemplar': 'dtw_distance_exemplar_2', 'yes_gini': 0.375, 'no_gini': 0.6111111111111112, 'yes_split_size': 4, 'no_split_size': 6}\n",
      "{'label': 1, 'time_series': [1.3, 2.3, 3.3, 4.3, 5.3], 'exemplars': [[0.7, 1.3, 1.9, 2.5, 3.1], [0.8, 1.7, 2.5, 3.2, 4.0], [1.5, 2.1, 2.7, 3.3, 3.9]], 'dtw_distance_exemplar_1': 2.6229754097208, 'dtw_distance_exemplar_2': 1.4966629547095762, 'dtw_distance_exemplar_3': 1.5362291495737217, 'closest exemplar': 'dtw_distance_exemplar_2', 'before_split_partition_gini': <list_iterator object at 0x000001ECAD42EB90>, 'split_exemplar': 'dtw_distance_exemplar_2', 'yes_gini': 0.375, 'no_gini': 0.6111111111111112, 'yes_split_size': 4, 'no_split_size': 6}\n",
      "{'label': 2, 'time_series': [1.9, 2.8, 3.7, 4.6, 5.5], 'exemplars': [[0.7, 1.3, 1.9, 2.5, 3.1], [0.8, 1.7, 2.5, 3.2, 4.0], [1.5, 2.1, 2.7, 3.3, 3.9]], 'dtw_distance_exemplar_1': 3.203123475609393, 'dtw_distance_exemplar_2': 2.0493901531919194, 'dtw_distance_exemplar_3': 1.849324200890693, 'closest exemplar': 'dtw_distance_exemplar_3', 'before_split_partition_gini': <list_iterator object at 0x000001ECAD42EB90>, 'split_exemplar': 'dtw_distance_exemplar_2', 'yes_gini': 0.375, 'no_gini': 0.6111111111111112, 'yes_split_size': 4, 'no_split_size': 6}\n",
      "{'label': 1, 'time_series': [1.0, 1.8, 2.6, 3.4, 4.2], 'exemplars': [[1.1, 2.1, 3.1, 4.1, 5.1], [2.1, 3.3, 4.5, 5.7, 6.9], [0.9, 1.8, 2.7, 3.6, 4.5]], 'dtw_distance_exemplar_1': 1.122497216032182, 'dtw_distance_exemplar_2': 3.3451457367355464, 'dtw_distance_exemplar_3': 0.38729833462074165, 'closest exemplar': 'dtw_distance_exemplar_3', 'before_split_partition_gini': <list_iterator object at 0x000001ECAD42D510>, 'split_exemplar': 'dtw_distance_exemplar_1', 'yes_gini': 0.0, 'no_gini': 0.7407407407407407, 'yes_split_size': 1, 'no_split_size': 9}\n",
      "{'label': 1, 'time_series': [0.9, 1.8, 2.7, 3.6, 4.5], 'exemplars': [[1.1, 2.1, 3.1, 4.1, 5.1], [2.1, 3.3, 4.5, 5.7, 6.9], [0.9, 1.8, 2.7, 3.6, 4.5]], 'dtw_distance_exemplar_1': 0.9486832980505134, 'dtw_distance_exemplar_2': 3.029851481508624, 'dtw_distance_exemplar_3': 0.0, 'closest exemplar': 'dtw_distance_exemplar_3', 'before_split_partition_gini': <list_iterator object at 0x000001ECAD42D240>, 'split_exemplar': 'dtw_distance_exemplar_1', 'yes_gini': 0.0, 'no_gini': 0.7407407407407407, 'yes_split_size': 1, 'no_split_size': 9}\n",
      "{'label': 2, 'time_series': [2.1, 3.3, 4.5, 5.7, 6.9], 'exemplars': [[1.1, 2.1, 3.1, 4.1, 5.1], [2.1, 3.3, 4.5, 5.7, 6.9], [0.9, 1.8, 2.7, 3.6, 4.5]], 'dtw_distance_exemplar_1': 2.190890230020665, 'dtw_distance_exemplar_2': 0.0, 'dtw_distance_exemplar_3': 3.029851481508624, 'closest exemplar': 'dtw_distance_exemplar_2', 'before_split_partition_gini': <list_iterator object at 0x000001ECAD42D240>, 'split_exemplar': 'dtw_distance_exemplar_1', 'yes_gini': 0.0, 'no_gini': 0.7407407407407407, 'yes_split_size': 1, 'no_split_size': 9}\n",
      "{'label': 3, 'time_series': [2.0, 2.5, 3.0, 3.5, 4.0], 'exemplars': [[1.1, 2.1, 3.1, 4.1, 5.1], [2.1, 3.3, 4.5, 5.7, 6.9], [0.9, 1.8, 2.7, 3.6, 4.5]], 'dtw_distance_exemplar_1': 1.5362291495737213, 'dtw_distance_exemplar_2': 3.4423828956117015, 'dtw_distance_exemplar_3': 1.2806248474865698, 'closest exemplar': 'dtw_distance_exemplar_3', 'before_split_partition_gini': <list_iterator object at 0x000001ECAD42E410>, 'split_exemplar': 'dtw_distance_exemplar_1', 'yes_gini': 0.0, 'no_gini': 0.7407407407407407, 'yes_split_size': 1, 'no_split_size': 9}\n",
      "{'label': 2, 'time_series': [3.3, 4.1, 4.9, 5.7, 6.5], 'exemplars': [[1.1, 2.1, 3.1, 4.1, 5.1], [2.1, 3.3, 4.5, 5.7, 6.9], [0.9, 1.8, 2.7, 3.6, 4.5]], 'dtw_distance_exemplar_1': 2.946183972531247, 'dtw_distance_exemplar_2': 1.385640646055102, 'dtw_distance_exemplar_3': 3.7709415269929605, 'closest exemplar': 'dtw_distance_exemplar_2', 'before_split_partition_gini': <list_iterator object at 0x000001ECAD42E410>, 'split_exemplar': 'dtw_distance_exemplar_1', 'yes_gini': 0.0, 'no_gini': 0.7407407407407407, 'yes_split_size': 1, 'no_split_size': 9}\n",
      "{'label': 4, 'time_series': [5.5, 6.6, 7.7, 8.8, 9.9], 'exemplars': [[1.1, 2.1, 3.1, 4.1, 5.1], [2.1, 3.3, 4.5, 5.7, 6.9], [0.9, 1.8, 2.7, 3.6, 4.5]], 'dtw_distance_exemplar_1': 9.185858696931932, 'dtw_distance_exemplar_2': 5.547972602672079, 'dtw_distance_exemplar_3': 10.421132376090421, 'closest exemplar': 'dtw_distance_exemplar_2', 'before_split_partition_gini': <list_iterator object at 0x000001ECAD42E410>, 'split_exemplar': 'dtw_distance_exemplar_1', 'yes_gini': 0.0, 'no_gini': 0.7407407407407407, 'yes_split_size': 1, 'no_split_size': 9}\n",
      "{'label': 1, 'time_series': [1.1, 2.1, 3.1, 4.1, 5.1], 'exemplars': [[1.1, 2.1, 3.1, 4.1, 5.1], [2.1, 3.3, 4.5, 5.7, 6.9], [0.9, 1.8, 2.7, 3.6, 4.5]], 'dtw_distance_exemplar_1': 0.0, 'dtw_distance_exemplar_2': 2.190890230020665, 'dtw_distance_exemplar_3': 0.9486832980505134, 'closest exemplar': 'dtw_distance_exemplar_1', 'before_split_partition_gini': <list_iterator object at 0x000001ECAD42E410>, 'split_exemplar': 'dtw_distance_exemplar_1', 'yes_gini': 0.0, 'no_gini': 0.7407407407407407, 'yes_split_size': 1, 'no_split_size': 9}\n",
      "{'label': 1, 'time_series': [0.6, 1.2, 1.8, 2.4, 3.0], 'exemplars': [[1.1, 2.1, 3.1, 4.1, 5.1], [2.1, 3.3, 4.5, 5.7, 6.9], [0.9, 1.8, 2.7, 3.6, 4.5]], 'dtw_distance_exemplar_1': 2.463736998950983, 'dtw_distance_exemplar_2': 5.299056519796709, 'dtw_distance_exemplar_3': 1.6970562748477143, 'closest exemplar': 'dtw_distance_exemplar_3', 'before_split_partition_gini': <list_iterator object at 0x000001ECAD42E500>, 'split_exemplar': 'dtw_distance_exemplar_1', 'yes_gini': 0.0, 'no_gini': 0.7407407407407407, 'yes_split_size': 1, 'no_split_size': 9}\n",
      "{'label': 3, 'time_series': [1.0, 1.8, 2.6, 3.4, 4.2], 'exemplars': [[1.1, 2.1, 3.1, 4.1, 5.1], [2.1, 3.3, 4.5, 5.7, 6.9], [0.9, 1.8, 2.7, 3.6, 4.5]], 'dtw_distance_exemplar_1': 1.122497216032182, 'dtw_distance_exemplar_2': 3.3451457367355464, 'dtw_distance_exemplar_3': 0.38729833462074165, 'closest exemplar': 'dtw_distance_exemplar_3', 'before_split_partition_gini': <list_iterator object at 0x000001ECAD42E500>, 'split_exemplar': 'dtw_distance_exemplar_1', 'yes_gini': 0.0, 'no_gini': 0.7407407407407407, 'yes_split_size': 1, 'no_split_size': 9}\n",
      "{'label': 4, 'time_series': [6.0, 7.0, 8.0, 9.0, 10.0], 'exemplars': [[1.1, 2.1, 3.1, 4.1, 5.1], [2.1, 3.3, 4.5, 5.7, 6.9], [0.9, 1.8, 2.7, 3.6, 4.5]], 'dtw_distance_exemplar_1': 10.123240587875012, 'dtw_distance_exemplar_2': 6.330876716537765, 'dtw_distance_exemplar_3': 11.351211389098522, 'closest exemplar': 'dtw_distance_exemplar_2', 'before_split_partition_gini': <list_iterator object at 0x000001ECAD42E500>, 'split_exemplar': 'dtw_distance_exemplar_1', 'yes_gini': 0.0, 'no_gini': 0.7407407407407407, 'yes_split_size': 1, 'no_split_size': 9}\n",
      "{'label': 1, 'time_series': [1.0, 1.8, 2.6, 3.4, 4.2], 'exemplars': [[1.1, 2.1, 3.1, 4.1, 5.1], [2.1, 3.3, 4.5, 5.7, 6.9], [0.9, 1.8, 2.7, 3.6, 4.5]], 'dtw_distance_exemplar_1': 1.122497216032182, 'dtw_distance_exemplar_2': 3.3451457367355464, 'dtw_distance_exemplar_3': 0.38729833462074165, 'closest exemplar': 'dtw_distance_exemplar_3', 'before_split_partition_gini': <list_iterator object at 0x000001ECAD42E500>, 'split_exemplar': 'dtw_distance_exemplar_3', 'yes_gini': 0.48, 'no_gini': 0.6399999999999999, 'yes_split_size': 5, 'no_split_size': 5}\n",
      "{'label': 1, 'time_series': [0.9, 1.8, 2.7, 3.6, 4.5], 'exemplars': [[1.1, 2.1, 3.1, 4.1, 5.1], [2.1, 3.3, 4.5, 5.7, 6.9], [0.9, 1.8, 2.7, 3.6, 4.5]], 'dtw_distance_exemplar_1': 0.9486832980505134, 'dtw_distance_exemplar_2': 3.029851481508624, 'dtw_distance_exemplar_3': 0.0, 'closest exemplar': 'dtw_distance_exemplar_3', 'before_split_partition_gini': <list_iterator object at 0x000001ECAD42E500>, 'split_exemplar': 'dtw_distance_exemplar_3', 'yes_gini': 0.48, 'no_gini': 0.6399999999999999, 'yes_split_size': 5, 'no_split_size': 5}\n",
      "{'label': 2, 'time_series': [2.1, 3.3, 4.5, 5.7, 6.9], 'exemplars': [[1.1, 2.1, 3.1, 4.1, 5.1], [2.1, 3.3, 4.5, 5.7, 6.9], [0.9, 1.8, 2.7, 3.6, 4.5]], 'dtw_distance_exemplar_1': 2.190890230020665, 'dtw_distance_exemplar_2': 0.0, 'dtw_distance_exemplar_3': 3.029851481508624, 'closest exemplar': 'dtw_distance_exemplar_2', 'before_split_partition_gini': <list_iterator object at 0x000001ECAD42E500>, 'split_exemplar': 'dtw_distance_exemplar_3', 'yes_gini': 0.48, 'no_gini': 0.6399999999999999, 'yes_split_size': 5, 'no_split_size': 5}\n",
      "{'label': 3, 'time_series': [2.0, 2.5, 3.0, 3.5, 4.0], 'exemplars': [[1.1, 2.1, 3.1, 4.1, 5.1], [2.1, 3.3, 4.5, 5.7, 6.9], [0.9, 1.8, 2.7, 3.6, 4.5]], 'dtw_distance_exemplar_1': 1.5362291495737213, 'dtw_distance_exemplar_2': 3.4423828956117015, 'dtw_distance_exemplar_3': 1.2806248474865698, 'closest exemplar': 'dtw_distance_exemplar_3', 'before_split_partition_gini': <list_iterator object at 0x000001ECAD42E500>, 'split_exemplar': 'dtw_distance_exemplar_3', 'yes_gini': 0.48, 'no_gini': 0.6399999999999999, 'yes_split_size': 5, 'no_split_size': 5}\n",
      "{'label': 2, 'time_series': [3.3, 4.1, 4.9, 5.7, 6.5], 'exemplars': [[1.1, 2.1, 3.1, 4.1, 5.1], [2.1, 3.3, 4.5, 5.7, 6.9], [0.9, 1.8, 2.7, 3.6, 4.5]], 'dtw_distance_exemplar_1': 2.946183972531247, 'dtw_distance_exemplar_2': 1.385640646055102, 'dtw_distance_exemplar_3': 3.7709415269929605, 'closest exemplar': 'dtw_distance_exemplar_2', 'before_split_partition_gini': <list_iterator object at 0x000001ECAD42E500>, 'split_exemplar': 'dtw_distance_exemplar_3', 'yes_gini': 0.48, 'no_gini': 0.6399999999999999, 'yes_split_size': 5, 'no_split_size': 5}\n",
      "{'label': 4, 'time_series': [5.5, 6.6, 7.7, 8.8, 9.9], 'exemplars': [[1.1, 2.1, 3.1, 4.1, 5.1], [2.1, 3.3, 4.5, 5.7, 6.9], [0.9, 1.8, 2.7, 3.6, 4.5]], 'dtw_distance_exemplar_1': 9.185858696931932, 'dtw_distance_exemplar_2': 5.547972602672079, 'dtw_distance_exemplar_3': 10.421132376090421, 'closest exemplar': 'dtw_distance_exemplar_2', 'before_split_partition_gini': <list_iterator object at 0x000001ECAD42D450>, 'split_exemplar': 'dtw_distance_exemplar_3', 'yes_gini': 0.48, 'no_gini': 0.6399999999999999, 'yes_split_size': 5, 'no_split_size': 5}\n",
      "{'label': 1, 'time_series': [1.1, 2.1, 3.1, 4.1, 5.1], 'exemplars': [[1.1, 2.1, 3.1, 4.1, 5.1], [2.1, 3.3, 4.5, 5.7, 6.9], [0.9, 1.8, 2.7, 3.6, 4.5]], 'dtw_distance_exemplar_1': 0.0, 'dtw_distance_exemplar_2': 2.190890230020665, 'dtw_distance_exemplar_3': 0.9486832980505134, 'closest exemplar': 'dtw_distance_exemplar_1', 'before_split_partition_gini': <list_iterator object at 0x000001ECAD42D450>, 'split_exemplar': 'dtw_distance_exemplar_3', 'yes_gini': 0.48, 'no_gini': 0.6399999999999999, 'yes_split_size': 5, 'no_split_size': 5}\n",
      "{'label': 1, 'time_series': [0.6, 1.2, 1.8, 2.4, 3.0], 'exemplars': [[1.1, 2.1, 3.1, 4.1, 5.1], [2.1, 3.3, 4.5, 5.7, 6.9], [0.9, 1.8, 2.7, 3.6, 4.5]], 'dtw_distance_exemplar_1': 2.463736998950983, 'dtw_distance_exemplar_2': 5.299056519796709, 'dtw_distance_exemplar_3': 1.6970562748477143, 'closest exemplar': 'dtw_distance_exemplar_3', 'before_split_partition_gini': <list_iterator object at 0x000001ECAD42D450>, 'split_exemplar': 'dtw_distance_exemplar_3', 'yes_gini': 0.48, 'no_gini': 0.6399999999999999, 'yes_split_size': 5, 'no_split_size': 5}\n",
      "{'label': 3, 'time_series': [1.0, 1.8, 2.6, 3.4, 4.2], 'exemplars': [[1.1, 2.1, 3.1, 4.1, 5.1], [2.1, 3.3, 4.5, 5.7, 6.9], [0.9, 1.8, 2.7, 3.6, 4.5]], 'dtw_distance_exemplar_1': 1.122497216032182, 'dtw_distance_exemplar_2': 3.3451457367355464, 'dtw_distance_exemplar_3': 0.38729833462074165, 'closest exemplar': 'dtw_distance_exemplar_3', 'before_split_partition_gini': <list_iterator object at 0x000001ECAD42D450>, 'split_exemplar': 'dtw_distance_exemplar_3', 'yes_gini': 0.48, 'no_gini': 0.6399999999999999, 'yes_split_size': 5, 'no_split_size': 5}\n",
      "{'label': 4, 'time_series': [6.0, 7.0, 8.0, 9.0, 10.0], 'exemplars': [[1.1, 2.1, 3.1, 4.1, 5.1], [2.1, 3.3, 4.5, 5.7, 6.9], [0.9, 1.8, 2.7, 3.6, 4.5]], 'dtw_distance_exemplar_1': 10.123240587875012, 'dtw_distance_exemplar_2': 6.330876716537765, 'dtw_distance_exemplar_3': 11.351211389098522, 'closest exemplar': 'dtw_distance_exemplar_2', 'before_split_partition_gini': <list_iterator object at 0x000001ECAD42D450>, 'split_exemplar': 'dtw_distance_exemplar_3', 'yes_gini': 0.48, 'no_gini': 0.6399999999999999, 'yes_split_size': 5, 'no_split_size': 5}\n",
      "{'label': 1, 'time_series': [1.0, 1.8, 2.6, 3.4, 4.2], 'exemplars': [[1.1, 2.1, 3.1, 4.1, 5.1], [2.1, 3.3, 4.5, 5.7, 6.9], [0.9, 1.8, 2.7, 3.6, 4.5]], 'dtw_distance_exemplar_1': 1.122497216032182, 'dtw_distance_exemplar_2': 3.3451457367355464, 'dtw_distance_exemplar_3': 0.38729833462074165, 'closest exemplar': 'dtw_distance_exemplar_3', 'before_split_partition_gini': <list_iterator object at 0x000001ECAD42D450>, 'split_exemplar': 'dtw_distance_exemplar_2', 'yes_gini': 0.5, 'no_gini': 0.4444444444444444, 'yes_split_size': 4, 'no_split_size': 6}\n",
      "{'label': 1, 'time_series': [0.9, 1.8, 2.7, 3.6, 4.5], 'exemplars': [[1.1, 2.1, 3.1, 4.1, 5.1], [2.1, 3.3, 4.5, 5.7, 6.9], [0.9, 1.8, 2.7, 3.6, 4.5]], 'dtw_distance_exemplar_1': 0.9486832980505134, 'dtw_distance_exemplar_2': 3.029851481508624, 'dtw_distance_exemplar_3': 0.0, 'closest exemplar': 'dtw_distance_exemplar_3', 'before_split_partition_gini': <list_iterator object at 0x000001ECAD42D450>, 'split_exemplar': 'dtw_distance_exemplar_2', 'yes_gini': 0.5, 'no_gini': 0.4444444444444444, 'yes_split_size': 4, 'no_split_size': 6}\n",
      "{'label': 2, 'time_series': [2.1, 3.3, 4.5, 5.7, 6.9], 'exemplars': [[1.1, 2.1, 3.1, 4.1, 5.1], [2.1, 3.3, 4.5, 5.7, 6.9], [0.9, 1.8, 2.7, 3.6, 4.5]], 'dtw_distance_exemplar_1': 2.190890230020665, 'dtw_distance_exemplar_2': 0.0, 'dtw_distance_exemplar_3': 3.029851481508624, 'closest exemplar': 'dtw_distance_exemplar_2', 'before_split_partition_gini': <list_iterator object at 0x000001ECAD42D450>, 'split_exemplar': 'dtw_distance_exemplar_2', 'yes_gini': 0.5, 'no_gini': 0.4444444444444444, 'yes_split_size': 4, 'no_split_size': 6}\n",
      "{'label': 3, 'time_series': [2.0, 2.5, 3.0, 3.5, 4.0], 'exemplars': [[1.1, 2.1, 3.1, 4.1, 5.1], [2.1, 3.3, 4.5, 5.7, 6.9], [0.9, 1.8, 2.7, 3.6, 4.5]], 'dtw_distance_exemplar_1': 1.5362291495737213, 'dtw_distance_exemplar_2': 3.4423828956117015, 'dtw_distance_exemplar_3': 1.2806248474865698, 'closest exemplar': 'dtw_distance_exemplar_3', 'before_split_partition_gini': <list_iterator object at 0x000001ECAD42D450>, 'split_exemplar': 'dtw_distance_exemplar_2', 'yes_gini': 0.5, 'no_gini': 0.4444444444444444, 'yes_split_size': 4, 'no_split_size': 6}\n",
      "{'label': 2, 'time_series': [3.3, 4.1, 4.9, 5.7, 6.5], 'exemplars': [[1.1, 2.1, 3.1, 4.1, 5.1], [2.1, 3.3, 4.5, 5.7, 6.9], [0.9, 1.8, 2.7, 3.6, 4.5]], 'dtw_distance_exemplar_1': 2.946183972531247, 'dtw_distance_exemplar_2': 1.385640646055102, 'dtw_distance_exemplar_3': 3.7709415269929605, 'closest exemplar': 'dtw_distance_exemplar_2', 'before_split_partition_gini': <list_iterator object at 0x000001ECAD42D450>, 'split_exemplar': 'dtw_distance_exemplar_2', 'yes_gini': 0.5, 'no_gini': 0.4444444444444444, 'yes_split_size': 4, 'no_split_size': 6}\n",
      "{'label': 4, 'time_series': [5.5, 6.6, 7.7, 8.8, 9.9], 'exemplars': [[1.1, 2.1, 3.1, 4.1, 5.1], [2.1, 3.3, 4.5, 5.7, 6.9], [0.9, 1.8, 2.7, 3.6, 4.5]], 'dtw_distance_exemplar_1': 9.185858696931932, 'dtw_distance_exemplar_2': 5.547972602672079, 'dtw_distance_exemplar_3': 10.421132376090421, 'closest exemplar': 'dtw_distance_exemplar_2', 'before_split_partition_gini': <list_iterator object at 0x000001ECAD42D450>, 'split_exemplar': 'dtw_distance_exemplar_2', 'yes_gini': 0.5, 'no_gini': 0.4444444444444444, 'yes_split_size': 4, 'no_split_size': 6}\n",
      "{'label': 1, 'time_series': [1.1, 2.1, 3.1, 4.1, 5.1], 'exemplars': [[1.1, 2.1, 3.1, 4.1, 5.1], [2.1, 3.3, 4.5, 5.7, 6.9], [0.9, 1.8, 2.7, 3.6, 4.5]], 'dtw_distance_exemplar_1': 0.0, 'dtw_distance_exemplar_2': 2.190890230020665, 'dtw_distance_exemplar_3': 0.9486832980505134, 'closest exemplar': 'dtw_distance_exemplar_1', 'before_split_partition_gini': <list_iterator object at 0x000001ECAD42D450>, 'split_exemplar': 'dtw_distance_exemplar_2', 'yes_gini': 0.5, 'no_gini': 0.4444444444444444, 'yes_split_size': 4, 'no_split_size': 6}\n",
      "{'label': 1, 'time_series': [0.6, 1.2, 1.8, 2.4, 3.0], 'exemplars': [[1.1, 2.1, 3.1, 4.1, 5.1], [2.1, 3.3, 4.5, 5.7, 6.9], [0.9, 1.8, 2.7, 3.6, 4.5]], 'dtw_distance_exemplar_1': 2.463736998950983, 'dtw_distance_exemplar_2': 5.299056519796709, 'dtw_distance_exemplar_3': 1.6970562748477143, 'closest exemplar': 'dtw_distance_exemplar_3', 'before_split_partition_gini': <list_iterator object at 0x000001ECAD42D450>, 'split_exemplar': 'dtw_distance_exemplar_2', 'yes_gini': 0.5, 'no_gini': 0.4444444444444444, 'yes_split_size': 4, 'no_split_size': 6}\n",
      "{'label': 3, 'time_series': [1.0, 1.8, 2.6, 3.4, 4.2], 'exemplars': [[1.1, 2.1, 3.1, 4.1, 5.1], [2.1, 3.3, 4.5, 5.7, 6.9], [0.9, 1.8, 2.7, 3.6, 4.5]], 'dtw_distance_exemplar_1': 1.122497216032182, 'dtw_distance_exemplar_2': 3.3451457367355464, 'dtw_distance_exemplar_3': 0.38729833462074165, 'closest exemplar': 'dtw_distance_exemplar_3', 'before_split_partition_gini': <list_iterator object at 0x000001ECAD42D450>, 'split_exemplar': 'dtw_distance_exemplar_2', 'yes_gini': 0.5, 'no_gini': 0.4444444444444444, 'yes_split_size': 4, 'no_split_size': 6}\n",
      "{'label': 4, 'time_series': [6.0, 7.0, 8.0, 9.0, 10.0], 'exemplars': [[1.1, 2.1, 3.1, 4.1, 5.1], [2.1, 3.3, 4.5, 5.7, 6.9], [0.9, 1.8, 2.7, 3.6, 4.5]], 'dtw_distance_exemplar_1': 10.123240587875012, 'dtw_distance_exemplar_2': 6.330876716537765, 'dtw_distance_exemplar_3': 11.351211389098522, 'closest exemplar': 'dtw_distance_exemplar_2', 'before_split_partition_gini': <list_iterator object at 0x000001ECAD42D450>, 'split_exemplar': 'dtw_distance_exemplar_2', 'yes_gini': 0.5, 'no_gini': 0.4444444444444444, 'yes_split_size': 4, 'no_split_size': 6}\n"
     ]
    }
   ],
   "source": [
    "global_model = GlobalModelManager()\n",
    "results = global_model.train(df)\n",
    "for result in results:\n",
    "    print(result)"
   ]
  },
  {
   "cell_type": "code",
   "execution_count": null,
   "id": "8804a018",
   "metadata": {},
   "outputs": [],
   "source": []
  }
 ],
 "metadata": {
  "kernelspec": {
   "display_name": "bigdata_env",
   "language": "python",
   "name": "python3"
  },
  "language_info": {
   "codemirror_mode": {
    "name": "ipython",
    "version": 3
   },
   "file_extension": ".py",
   "mimetype": "text/x-python",
   "name": "python",
   "nbconvert_exporter": "python",
   "pygments_lexer": "ipython3",
   "version": "3.11.11"
  }
 },
 "nbformat": 4,
 "nbformat_minor": 5
}
